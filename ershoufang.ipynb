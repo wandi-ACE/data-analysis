{
 "cells": [
  {
   "cell_type": "code",
   "execution_count": 1,
   "metadata": {},
   "outputs": [],
   "source": [
    "import numpy as np\n",
    "import pandas as pd\n",
    "import scipy.stats as stats\n",
    "%matplotlib inline\n",
    "import matplotlib\n",
    "import matplotlib.pyplot as plt\n",
    "import seaborn as sns\n",
    "color = sns.color_palette()\n",
    "sns.set_style('darkgrid')\n",
    "from sklearn.impute import SimpleImputer\n",
    "#支持中文显示\n",
    "from pylab import *\n",
    "mpl.rcParams['font.sans-serif'] = ['SimHei']\n",
    "from sklearn.preprocessing import LabelEncoder\n",
    "\n",
    "from scipy import stats\n",
    "from scipy.stats import norm, skew #for some statistics"
   ]
  },
  {
   "cell_type": "code",
   "execution_count": 2,
   "metadata": {},
   "outputs": [],
   "source": [
    "data = pd.read_csv(r'D:\\vscode\\GitHub\\链家二手房.csv')"
   ]
  },
  {
   "cell_type": "code",
   "execution_count": 3,
   "metadata": {},
   "outputs": [],
   "source": [
    "pd.set_option('display.float_format', lambda x: '{:.6f}'.format(x)) #Limiting floats output to 6 decimal points"
   ]
  },
  {
   "cell_type": "code",
   "execution_count": 4,
   "metadata": {
    "collapsed": true,
    "jupyter": {
     "outputs_hidden": true
    }
   },
   "outputs": [
    {
     "data": {
      "text/html": [
       "<div>\n",
       "<style scoped>\n",
       "    .dataframe tbody tr th:only-of-type {\n",
       "        vertical-align: middle;\n",
       "    }\n",
       "\n",
       "    .dataframe tbody tr th {\n",
       "        vertical-align: top;\n",
       "    }\n",
       "\n",
       "    .dataframe thead th {\n",
       "        text-align: right;\n",
       "    }\n",
       "</style>\n",
       "<table border=\"1\" class=\"dataframe\">\n",
       "  <thead>\n",
       "    <tr style=\"text-align: right;\">\n",
       "      <th></th>\n",
       "      <th>链家编号</th>\n",
       "      <th>标题</th>\n",
       "      <th>小区名称</th>\n",
       "      <th>小区纬度</th>\n",
       "      <th>小区经度</th>\n",
       "      <th>邻近地铁站</th>\n",
       "      <th>所属街道</th>\n",
       "      <th>所属区域</th>\n",
       "      <th>总价</th>\n",
       "      <th>地铁线路</th>\n",
       "      <th>...</th>\n",
       "      <th>配备电梯</th>\n",
       "      <th>挂牌时间</th>\n",
       "      <th>交易权属</th>\n",
       "      <th>上次交易</th>\n",
       "      <th>房屋用途</th>\n",
       "      <th>房屋年限</th>\n",
       "      <th>产权所属</th>\n",
       "      <th>url</th>\n",
       "      <th>别墅类型</th>\n",
       "      <th>抵押信息</th>\n",
       "    </tr>\n",
       "  </thead>\n",
       "  <tbody>\n",
       "    <tr>\n",
       "      <th>0</th>\n",
       "      <td>107102345339</td>\n",
       "      <td>内环内世纪公园满五唯一精装两房中楼层诚意出售</td>\n",
       "      <td>牡丹路186弄</td>\n",
       "      <td>31.212354</td>\n",
       "      <td>121.552919</td>\n",
       "      <td>世纪公园站</td>\n",
       "      <td>花木</td>\n",
       "      <td>浦东</td>\n",
       "      <td>450.000000</td>\n",
       "      <td>2</td>\n",
       "      <td>...</td>\n",
       "      <td>无</td>\n",
       "      <td>2020-04-05</td>\n",
       "      <td>商品房</td>\n",
       "      <td>2010-07-13</td>\n",
       "      <td>普通住宅</td>\n",
       "      <td>满五年</td>\n",
       "      <td>共有</td>\n",
       "      <td>https://sh.lianjia.com/ershoufang/107102345339...</td>\n",
       "      <td>NaN</td>\n",
       "      <td>NaN</td>\n",
       "    </tr>\n",
       "    <tr>\n",
       "      <th>1</th>\n",
       "      <td>107102573875</td>\n",
       "      <td>5楼，满五唯一，精装修，不靠路，诚意出售，看房约</td>\n",
       "      <td>爱法新城</td>\n",
       "      <td>31.283734</td>\n",
       "      <td>121.592517</td>\n",
       "      <td>巨峰路站</td>\n",
       "      <td>金桥</td>\n",
       "      <td>浦东</td>\n",
       "      <td>540.000000</td>\n",
       "      <td>6</td>\n",
       "      <td>...</td>\n",
       "      <td>无</td>\n",
       "      <td>2020-05-23</td>\n",
       "      <td>商品房</td>\n",
       "      <td>暂无数据</td>\n",
       "      <td>普通住宅</td>\n",
       "      <td>暂无数据</td>\n",
       "      <td>共有</td>\n",
       "      <td>https://sh.lianjia.com/ershoufang/107102573875...</td>\n",
       "      <td>NaN</td>\n",
       "      <td>NaN</td>\n",
       "    </tr>\n",
       "    <tr>\n",
       "      <th>2</th>\n",
       "      <td>107102253648</td>\n",
       "      <td>杨思前滩+电梯中层+税少+诚意出售+随时可看，可谈！！</td>\n",
       "      <td>三林世博家园(大道站路94弄)</td>\n",
       "      <td>31.164962</td>\n",
       "      <td>121.541312</td>\n",
       "      <td>暂无信息</td>\n",
       "      <td>杨思前滩</td>\n",
       "      <td>浦东</td>\n",
       "      <td>375.000000</td>\n",
       "      <td>暂无信息</td>\n",
       "      <td>...</td>\n",
       "      <td>有</td>\n",
       "      <td>2020-03-15</td>\n",
       "      <td>商品房</td>\n",
       "      <td>2020-03-15</td>\n",
       "      <td>普通住宅</td>\n",
       "      <td>未满两年</td>\n",
       "      <td>共有</td>\n",
       "      <td>https://sh.lianjia.com/ershoufang/107102253648...</td>\n",
       "      <td>NaN</td>\n",
       "      <td>NaN</td>\n",
       "    </tr>\n",
       "    <tr>\n",
       "      <th>3</th>\n",
       "      <td>107102425179</td>\n",
       "      <td>此房满五唯一，南北格局通透，视野宽阔，采光充足</td>\n",
       "      <td>西谈家渡路17弄</td>\n",
       "      <td>31.241109</td>\n",
       "      <td>121.427846</td>\n",
       "      <td>暂无信息</td>\n",
       "      <td>武宁</td>\n",
       "      <td>普陀</td>\n",
       "      <td>217.000000</td>\n",
       "      <td>暂无信息</td>\n",
       "      <td>...</td>\n",
       "      <td>有</td>\n",
       "      <td>2020-04-22</td>\n",
       "      <td>商品房</td>\n",
       "      <td>2012-04-12</td>\n",
       "      <td>普通住宅</td>\n",
       "      <td>满五年</td>\n",
       "      <td>非共有</td>\n",
       "      <td>https://sh.lianjia.com/ershoufang/107102425179...</td>\n",
       "      <td>NaN</td>\n",
       "      <td>NaN</td>\n",
       "    </tr>\n",
       "    <tr>\n",
       "      <th>4</th>\n",
       "      <td>107102249065</td>\n",
       "      <td>徐浦大桥全景，江景房，一手动迁毛坯房，高层全明户型</td>\n",
       "      <td>华沁家园</td>\n",
       "      <td>31.143257</td>\n",
       "      <td>121.457209</td>\n",
       "      <td>暂无信息</td>\n",
       "      <td>植物园</td>\n",
       "      <td>徐汇</td>\n",
       "      <td>370.000000</td>\n",
       "      <td>暂无信息</td>\n",
       "      <td>...</td>\n",
       "      <td>有</td>\n",
       "      <td>2020-03-14</td>\n",
       "      <td>商品房</td>\n",
       "      <td>暂无数据</td>\n",
       "      <td>普通住宅</td>\n",
       "      <td>暂无数据</td>\n",
       "      <td>共有</td>\n",
       "      <td>https://sh.lianjia.com/ershoufang/107102249065...</td>\n",
       "      <td>NaN</td>\n",
       "      <td>NaN</td>\n",
       "    </tr>\n",
       "  </tbody>\n",
       "</table>\n",
       "<p>5 rows × 37 columns</p>\n",
       "</div>"
      ],
      "text/plain": [
       "           链家编号                           标题             小区名称      小区纬度  \\\n",
       "0  107102345339       内环内世纪公园满五唯一精装两房中楼层诚意出售          牡丹路186弄 31.212354   \n",
       "1  107102573875     5楼，满五唯一，精装修，不靠路，诚意出售，看房约             爱法新城 31.283734   \n",
       "2  107102253648  杨思前滩+电梯中层+税少+诚意出售+随时可看，可谈！！  三林世博家园(大道站路94弄) 31.164962   \n",
       "3  107102425179      此房满五唯一，南北格局通透，视野宽阔，采光充足         西谈家渡路17弄 31.241109   \n",
       "4  107102249065    徐浦大桥全景，江景房，一手动迁毛坯房，高层全明户型             华沁家园 31.143257   \n",
       "\n",
       "        小区经度  邻近地铁站  所属街道 所属区域         总价  地铁线路  ...  配备电梯        挂牌时间  交易权属  \\\n",
       "0 121.552919  世纪公园站    花木   浦东 450.000000     2  ...     无  2020-04-05   商品房   \n",
       "1 121.592517   巨峰路站    金桥   浦东 540.000000     6  ...     无  2020-05-23   商品房   \n",
       "2 121.541312   暂无信息  杨思前滩   浦东 375.000000  暂无信息  ...     有  2020-03-15   商品房   \n",
       "3 121.427846   暂无信息    武宁   普陀 217.000000  暂无信息  ...     有  2020-04-22   商品房   \n",
       "4 121.457209   暂无信息   植物园   徐汇 370.000000  暂无信息  ...     有  2020-03-14   商品房   \n",
       "\n",
       "         上次交易  房屋用途  房屋年限 产权所属  \\\n",
       "0  2010-07-13  普通住宅   满五年   共有   \n",
       "1        暂无数据  普通住宅  暂无数据   共有   \n",
       "2  2020-03-15  普通住宅  未满两年   共有   \n",
       "3  2012-04-12  普通住宅   满五年  非共有   \n",
       "4        暂无数据  普通住宅  暂无数据   共有   \n",
       "\n",
       "                                                 url  别墅类型 抵押信息  \n",
       "0  https://sh.lianjia.com/ershoufang/107102345339...   NaN  NaN  \n",
       "1  https://sh.lianjia.com/ershoufang/107102573875...   NaN  NaN  \n",
       "2  https://sh.lianjia.com/ershoufang/107102253648...   NaN  NaN  \n",
       "3  https://sh.lianjia.com/ershoufang/107102425179...   NaN  NaN  \n",
       "4  https://sh.lianjia.com/ershoufang/107102249065...   NaN  NaN  \n",
       "\n",
       "[5 rows x 37 columns]"
      ]
     },
     "execution_count": 4,
     "metadata": {},
     "output_type": "execute_result"
    }
   ],
   "source": [
    "data.head()#输出前五行，对数据有一个的框架有一个大体的认识"
   ]
  },
  {
   "cell_type": "code",
   "execution_count": 5,
   "metadata": {
    "collapsed": true,
    "jupyter": {
     "outputs_hidden": true
    }
   },
   "outputs": [
    {
     "data": {
      "text/html": [
       "<div>\n",
       "<style scoped>\n",
       "    .dataframe tbody tr th:only-of-type {\n",
       "        vertical-align: middle;\n",
       "    }\n",
       "\n",
       "    .dataframe tbody tr th {\n",
       "        vertical-align: top;\n",
       "    }\n",
       "\n",
       "    .dataframe thead th {\n",
       "        text-align: right;\n",
       "    }\n",
       "</style>\n",
       "<table border=\"1\" class=\"dataframe\">\n",
       "  <thead>\n",
       "    <tr style=\"text-align: right;\">\n",
       "      <th></th>\n",
       "      <th>链家编号</th>\n",
       "      <th>标题</th>\n",
       "      <th>小区名称</th>\n",
       "      <th>小区纬度</th>\n",
       "      <th>小区经度</th>\n",
       "      <th>邻近地铁站</th>\n",
       "      <th>所属街道</th>\n",
       "      <th>所属区域</th>\n",
       "      <th>总价</th>\n",
       "      <th>地铁线路</th>\n",
       "      <th>...</th>\n",
       "      <th>配备电梯</th>\n",
       "      <th>挂牌时间</th>\n",
       "      <th>交易权属</th>\n",
       "      <th>上次交易</th>\n",
       "      <th>房屋用途</th>\n",
       "      <th>房屋年限</th>\n",
       "      <th>产权所属</th>\n",
       "      <th>url</th>\n",
       "      <th>别墅类型</th>\n",
       "      <th>抵押信息</th>\n",
       "    </tr>\n",
       "  </thead>\n",
       "  <tbody>\n",
       "    <tr>\n",
       "      <th>0</th>\n",
       "      <td>107102345339</td>\n",
       "      <td>内环内世纪公园满五唯一精装两房中楼层诚意出售</td>\n",
       "      <td>牡丹路186弄</td>\n",
       "      <td>31.212354</td>\n",
       "      <td>121.552919</td>\n",
       "      <td>世纪公园站</td>\n",
       "      <td>花木</td>\n",
       "      <td>浦东</td>\n",
       "      <td>450.000000</td>\n",
       "      <td>2</td>\n",
       "      <td>...</td>\n",
       "      <td>无</td>\n",
       "      <td>2020-04-05</td>\n",
       "      <td>商品房</td>\n",
       "      <td>2010-07-13</td>\n",
       "      <td>普通住宅</td>\n",
       "      <td>满五年</td>\n",
       "      <td>共有</td>\n",
       "      <td>https://sh.lianjia.com/ershoufang/107102345339...</td>\n",
       "      <td>NaN</td>\n",
       "      <td>NaN</td>\n",
       "    </tr>\n",
       "    <tr>\n",
       "      <th>1</th>\n",
       "      <td>107102573875</td>\n",
       "      <td>5楼，满五唯一，精装修，不靠路，诚意出售，看房约</td>\n",
       "      <td>爱法新城</td>\n",
       "      <td>31.283734</td>\n",
       "      <td>121.592517</td>\n",
       "      <td>巨峰路站</td>\n",
       "      <td>金桥</td>\n",
       "      <td>浦东</td>\n",
       "      <td>540.000000</td>\n",
       "      <td>6</td>\n",
       "      <td>...</td>\n",
       "      <td>无</td>\n",
       "      <td>2020-05-23</td>\n",
       "      <td>商品房</td>\n",
       "      <td>暂无数据</td>\n",
       "      <td>普通住宅</td>\n",
       "      <td>暂无数据</td>\n",
       "      <td>共有</td>\n",
       "      <td>https://sh.lianjia.com/ershoufang/107102573875...</td>\n",
       "      <td>NaN</td>\n",
       "      <td>NaN</td>\n",
       "    </tr>\n",
       "    <tr>\n",
       "      <th>2</th>\n",
       "      <td>107102253648</td>\n",
       "      <td>杨思前滩+电梯中层+税少+诚意出售+随时可看，可谈！！</td>\n",
       "      <td>三林世博家园(大道站路94弄)</td>\n",
       "      <td>31.164962</td>\n",
       "      <td>121.541312</td>\n",
       "      <td>暂无信息</td>\n",
       "      <td>杨思前滩</td>\n",
       "      <td>浦东</td>\n",
       "      <td>375.000000</td>\n",
       "      <td>暂无信息</td>\n",
       "      <td>...</td>\n",
       "      <td>有</td>\n",
       "      <td>2020-03-15</td>\n",
       "      <td>商品房</td>\n",
       "      <td>2020-03-15</td>\n",
       "      <td>普通住宅</td>\n",
       "      <td>未满两年</td>\n",
       "      <td>共有</td>\n",
       "      <td>https://sh.lianjia.com/ershoufang/107102253648...</td>\n",
       "      <td>NaN</td>\n",
       "      <td>NaN</td>\n",
       "    </tr>\n",
       "    <tr>\n",
       "      <th>3</th>\n",
       "      <td>107102425179</td>\n",
       "      <td>此房满五唯一，南北格局通透，视野宽阔，采光充足</td>\n",
       "      <td>西谈家渡路17弄</td>\n",
       "      <td>31.241109</td>\n",
       "      <td>121.427846</td>\n",
       "      <td>暂无信息</td>\n",
       "      <td>武宁</td>\n",
       "      <td>普陀</td>\n",
       "      <td>217.000000</td>\n",
       "      <td>暂无信息</td>\n",
       "      <td>...</td>\n",
       "      <td>有</td>\n",
       "      <td>2020-04-22</td>\n",
       "      <td>商品房</td>\n",
       "      <td>2012-04-12</td>\n",
       "      <td>普通住宅</td>\n",
       "      <td>满五年</td>\n",
       "      <td>非共有</td>\n",
       "      <td>https://sh.lianjia.com/ershoufang/107102425179...</td>\n",
       "      <td>NaN</td>\n",
       "      <td>NaN</td>\n",
       "    </tr>\n",
       "    <tr>\n",
       "      <th>4</th>\n",
       "      <td>107102249065</td>\n",
       "      <td>徐浦大桥全景，江景房，一手动迁毛坯房，高层全明户型</td>\n",
       "      <td>华沁家园</td>\n",
       "      <td>31.143257</td>\n",
       "      <td>121.457209</td>\n",
       "      <td>暂无信息</td>\n",
       "      <td>植物园</td>\n",
       "      <td>徐汇</td>\n",
       "      <td>370.000000</td>\n",
       "      <td>暂无信息</td>\n",
       "      <td>...</td>\n",
       "      <td>有</td>\n",
       "      <td>2020-03-14</td>\n",
       "      <td>商品房</td>\n",
       "      <td>暂无数据</td>\n",
       "      <td>普通住宅</td>\n",
       "      <td>暂无数据</td>\n",
       "      <td>共有</td>\n",
       "      <td>https://sh.lianjia.com/ershoufang/107102249065...</td>\n",
       "      <td>NaN</td>\n",
       "      <td>NaN</td>\n",
       "    </tr>\n",
       "    <tr>\n",
       "      <th>5</th>\n",
       "      <td>107102567239</td>\n",
       "      <td>通风好，前后采光无遮挡，车水马龙寻一处安居之所~</td>\n",
       "      <td>市光三村</td>\n",
       "      <td>31.325647</td>\n",
       "      <td>121.547557</td>\n",
       "      <td>市光路站</td>\n",
       "      <td>中原</td>\n",
       "      <td>杨浦</td>\n",
       "      <td>275.000000</td>\n",
       "      <td>8</td>\n",
       "      <td>...</td>\n",
       "      <td>无</td>\n",
       "      <td>2020-05-22</td>\n",
       "      <td>商品房</td>\n",
       "      <td>2014-04-24</td>\n",
       "      <td>普通住宅</td>\n",
       "      <td>满五年</td>\n",
       "      <td>共有</td>\n",
       "      <td>https://sh.lianjia.com/ershoufang/107102567239...</td>\n",
       "      <td>NaN</td>\n",
       "      <td>NaN</td>\n",
       "    </tr>\n",
       "    <tr>\n",
       "      <th>6</th>\n",
       "      <td>107102479290</td>\n",
       "      <td>一梯俩户，精装修，边套全明，精品小区</td>\n",
       "      <td>虹康花苑(三期)</td>\n",
       "      <td>31.215480</td>\n",
       "      <td>121.373509</td>\n",
       "      <td>北新泾站</td>\n",
       "      <td>北新泾</td>\n",
       "      <td>长宁</td>\n",
       "      <td>580.000000</td>\n",
       "      <td>2</td>\n",
       "      <td>...</td>\n",
       "      <td>无</td>\n",
       "      <td>2020-05-04</td>\n",
       "      <td>商品房</td>\n",
       "      <td>2012-07-12</td>\n",
       "      <td>普通住宅</td>\n",
       "      <td>未满两年</td>\n",
       "      <td>非共有</td>\n",
       "      <td>https://sh.lianjia.com/ershoufang/107102479290...</td>\n",
       "      <td>NaN</td>\n",
       "      <td>NaN</td>\n",
       "    </tr>\n",
       "    <tr>\n",
       "      <th>7</th>\n",
       "      <td>107102568604</td>\n",
       "      <td>2期房源，精装修，13平露台（已经封好）客厅带阳台</td>\n",
       "      <td>万科白马花园(公寓)</td>\n",
       "      <td>31.082992</td>\n",
       "      <td>121.347044</td>\n",
       "      <td>暂无信息</td>\n",
       "      <td>莘闵别墅</td>\n",
       "      <td>松江</td>\n",
       "      <td>299.000000</td>\n",
       "      <td>暂无信息</td>\n",
       "      <td>...</td>\n",
       "      <td>无</td>\n",
       "      <td>2020-05-22</td>\n",
       "      <td>商品房</td>\n",
       "      <td>2008-05-30</td>\n",
       "      <td>普通住宅</td>\n",
       "      <td>满五年</td>\n",
       "      <td>非共有</td>\n",
       "      <td>https://sh.lianjia.com/ershoufang/107102568604...</td>\n",
       "      <td>NaN</td>\n",
       "      <td>NaN</td>\n",
       "    </tr>\n",
       "    <tr>\n",
       "      <th>8</th>\n",
       "      <td>107102529069</td>\n",
       "      <td>龙之梦商圈旁+精装朝南一室户+拎包入住+2楼楼层！！</td>\n",
       "      <td>商业一村</td>\n",
       "      <td>31.281579</td>\n",
       "      <td>121.482695</td>\n",
       "      <td>虹口足球场站</td>\n",
       "      <td>鲁迅公园</td>\n",
       "      <td>虹口</td>\n",
       "      <td>178.000000</td>\n",
       "      <td>3</td>\n",
       "      <td>...</td>\n",
       "      <td>无</td>\n",
       "      <td>2020-05-14</td>\n",
       "      <td>商品房</td>\n",
       "      <td>2015-08-04</td>\n",
       "      <td>普通住宅</td>\n",
       "      <td>满两年</td>\n",
       "      <td>共有</td>\n",
       "      <td>https://sh.lianjia.com/ershoufang/107102529069...</td>\n",
       "      <td>NaN</td>\n",
       "      <td>NaN</td>\n",
       "    </tr>\n",
       "    <tr>\n",
       "      <th>9</th>\n",
       "      <td>107102387869</td>\n",
       "      <td>动迁房，税费低；楼层高，采光好，有钥匙随时看房</td>\n",
       "      <td>新丰公寓</td>\n",
       "      <td>31.195428</td>\n",
       "      <td>121.241752</td>\n",
       "      <td>暂无信息</td>\n",
       "      <td>华新</td>\n",
       "      <td>青浦</td>\n",
       "      <td>205.000000</td>\n",
       "      <td>暂无信息</td>\n",
       "      <td>...</td>\n",
       "      <td>有</td>\n",
       "      <td>2020-04-14</td>\n",
       "      <td>动迁安置房</td>\n",
       "      <td>2012-10-17</td>\n",
       "      <td>普通住宅</td>\n",
       "      <td>满五年</td>\n",
       "      <td>非共有</td>\n",
       "      <td>https://sh.lianjia.com/ershoufang/107102387869...</td>\n",
       "      <td>NaN</td>\n",
       "      <td>NaN</td>\n",
       "    </tr>\n",
       "    <tr>\n",
       "      <th>10</th>\n",
       "      <td>107102572470</td>\n",
       "      <td>外环内普宅，满五唯一税费少，中间楼层，全明户型</td>\n",
       "      <td>华发小区</td>\n",
       "      <td>31.134424</td>\n",
       "      <td>121.458835</td>\n",
       "      <td>暂无信息</td>\n",
       "      <td>华泾</td>\n",
       "      <td>徐汇</td>\n",
       "      <td>306.000000</td>\n",
       "      <td>暂无信息</td>\n",
       "      <td>...</td>\n",
       "      <td>无</td>\n",
       "      <td>2020-05-23</td>\n",
       "      <td>商品房</td>\n",
       "      <td>1998-09-03</td>\n",
       "      <td>普通住宅</td>\n",
       "      <td>满五年</td>\n",
       "      <td>非共有</td>\n",
       "      <td>https://sh.lianjia.com/ershoufang/107102572470...</td>\n",
       "      <td>NaN</td>\n",
       "      <td>NaN</td>\n",
       "    </tr>\n",
       "    <tr>\n",
       "      <th>11</th>\n",
       "      <td>107102408129</td>\n",
       "      <td>此房满五年，南北通，楼层好，视野宽阔采光充足。</td>\n",
       "      <td>海尚逸苑</td>\n",
       "      <td>31.318133</td>\n",
       "      <td>121.486740</td>\n",
       "      <td>江湾镇站</td>\n",
       "      <td>江湾镇</td>\n",
       "      <td>虹口</td>\n",
       "      <td>505.000000</td>\n",
       "      <td>3</td>\n",
       "      <td>...</td>\n",
       "      <td>有</td>\n",
       "      <td>2020-04-18</td>\n",
       "      <td>商品房</td>\n",
       "      <td>2013-03-16</td>\n",
       "      <td>普通住宅</td>\n",
       "      <td>满五年</td>\n",
       "      <td>共有</td>\n",
       "      <td>https://sh.lianjia.com/ershoufang/107102408129...</td>\n",
       "      <td>NaN</td>\n",
       "      <td>NaN</td>\n",
       "    </tr>\n",
       "    <tr>\n",
       "      <th>12</th>\n",
       "      <td>107102523025</td>\n",
       "      <td>杨思前滩：满五年楼层+位置好 户型动静分明南北通格局</td>\n",
       "      <td>申江豪城</td>\n",
       "      <td>31.169829</td>\n",
       "      <td>121.506407</td>\n",
       "      <td>成山路站</td>\n",
       "      <td>杨思前滩</td>\n",
       "      <td>浦东</td>\n",
       "      <td>558.000000</td>\n",
       "      <td>8</td>\n",
       "      <td>...</td>\n",
       "      <td>无</td>\n",
       "      <td>2020-05-13</td>\n",
       "      <td>商品房</td>\n",
       "      <td>暂无数据</td>\n",
       "      <td>普通住宅</td>\n",
       "      <td>暂无数据</td>\n",
       "      <td>非共有</td>\n",
       "      <td>https://sh.lianjia.com/ershoufang/107102523025...</td>\n",
       "      <td>NaN</td>\n",
       "      <td>NaN</td>\n",
       "    </tr>\n",
       "    <tr>\n",
       "      <th>13</th>\n",
       "      <td>107102582176</td>\n",
       "      <td>高区陆家嘴三件套景观+有产权车位+满五唯一</td>\n",
       "      <td>瑞虹新城铭庭</td>\n",
       "      <td>31.269287</td>\n",
       "      <td>121.502619</td>\n",
       "      <td>临平路站</td>\n",
       "      <td>临平路</td>\n",
       "      <td>虹口</td>\n",
       "      <td>1468.000000</td>\n",
       "      <td>4</td>\n",
       "      <td>...</td>\n",
       "      <td>有</td>\n",
       "      <td>2020-05-25</td>\n",
       "      <td>商品房</td>\n",
       "      <td>暂无数据</td>\n",
       "      <td>普通住宅</td>\n",
       "      <td>暂无数据</td>\n",
       "      <td>共有</td>\n",
       "      <td>https://sh.lianjia.com/ershoufang/107102582176...</td>\n",
       "      <td>NaN</td>\n",
       "      <td>NaN</td>\n",
       "    </tr>\n",
       "    <tr>\n",
       "      <th>14</th>\n",
       "      <td>107102566458</td>\n",
       "      <td>店长推荐， 四楼，精装一房，全国文明小区, 业主急卖</td>\n",
       "      <td>梅陇三村</td>\n",
       "      <td>31.142024</td>\n",
       "      <td>121.424042</td>\n",
       "      <td>暂无信息</td>\n",
       "      <td>华东理工</td>\n",
       "      <td>徐汇</td>\n",
       "      <td>215.000000</td>\n",
       "      <td>暂无信息</td>\n",
       "      <td>...</td>\n",
       "      <td>无</td>\n",
       "      <td>2020-05-22</td>\n",
       "      <td>商品房</td>\n",
       "      <td>暂无数据</td>\n",
       "      <td>普通住宅</td>\n",
       "      <td>暂无数据</td>\n",
       "      <td>共有</td>\n",
       "      <td>https://sh.lianjia.com/ershoufang/107102566458...</td>\n",
       "      <td>NaN</td>\n",
       "      <td>NaN</td>\n",
       "    </tr>\n",
       "    <tr>\n",
       "      <th>15</th>\n",
       "      <td>107102550240</td>\n",
       "      <td>低楼层 采光无遮挡 近地铁 交通便利 看房联系维护人</td>\n",
       "      <td>双山小区</td>\n",
       "      <td>31.266823</td>\n",
       "      <td>121.430636</td>\n",
       "      <td>新村路站</td>\n",
       "      <td>甘泉宜川</td>\n",
       "      <td>普陀</td>\n",
       "      <td>215.000000</td>\n",
       "      <td>7</td>\n",
       "      <td>...</td>\n",
       "      <td>无</td>\n",
       "      <td>2020-05-18</td>\n",
       "      <td>商品房</td>\n",
       "      <td>暂无数据</td>\n",
       "      <td>普通住宅</td>\n",
       "      <td>暂无数据</td>\n",
       "      <td>非共有</td>\n",
       "      <td>https://sh.lianjia.com/ershoufang/107102550240...</td>\n",
       "      <td>NaN</td>\n",
       "      <td>NaN</td>\n",
       "    </tr>\n",
       "    <tr>\n",
       "      <th>16</th>\n",
       "      <td>107102577404</td>\n",
       "      <td>黄兴公园地铁口两居室   1梯2户</td>\n",
       "      <td>浣纱四村</td>\n",
       "      <td>31.306836</td>\n",
       "      <td>121.539547</td>\n",
       "      <td>黄兴公园站</td>\n",
       "      <td>黄兴公园</td>\n",
       "      <td>杨浦</td>\n",
       "      <td>445.000000</td>\n",
       "      <td>8</td>\n",
       "      <td>...</td>\n",
       "      <td>无</td>\n",
       "      <td>2020-05-24</td>\n",
       "      <td>商品房</td>\n",
       "      <td>2016-08-22</td>\n",
       "      <td>普通住宅</td>\n",
       "      <td>满两年</td>\n",
       "      <td>共有</td>\n",
       "      <td>https://sh.lianjia.com/ershoufang/107102577404...</td>\n",
       "      <td>NaN</td>\n",
       "      <td>NaN</td>\n",
       "    </tr>\n",
       "    <tr>\n",
       "      <th>17</th>\n",
       "      <td>107102539858</td>\n",
       "      <td>齐河花苑，小区环境好绿化好，周/边配套齐全居住舒适</td>\n",
       "      <td>齐河花苑</td>\n",
       "      <td>31.187360</td>\n",
       "      <td>121.523713</td>\n",
       "      <td>高科西路站</td>\n",
       "      <td>世博</td>\n",
       "      <td>浦东</td>\n",
       "      <td>315.000000</td>\n",
       "      <td>6</td>\n",
       "      <td>...</td>\n",
       "      <td>无</td>\n",
       "      <td>2020-05-16</td>\n",
       "      <td>商品房</td>\n",
       "      <td>2016-08-08</td>\n",
       "      <td>普通住宅</td>\n",
       "      <td>满两年</td>\n",
       "      <td>共有</td>\n",
       "      <td>https://sh.lianjia.com/ershoufang/107102539858...</td>\n",
       "      <td>NaN</td>\n",
       "      <td>NaN</td>\n",
       "    </tr>\n",
       "    <tr>\n",
       "      <th>18</th>\n",
       "      <td>107102396774</td>\n",
       "      <td>绿城上海御园 3室2厅 1150万</td>\n",
       "      <td>绿城上海御园</td>\n",
       "      <td>31.224383</td>\n",
       "      <td>121.662766</td>\n",
       "      <td>东靖路站</td>\n",
       "      <td>高行</td>\n",
       "      <td>浦东</td>\n",
       "      <td>1150.000000</td>\n",
       "      <td>6</td>\n",
       "      <td>...</td>\n",
       "      <td>有</td>\n",
       "      <td>2020-04-16</td>\n",
       "      <td>商品房</td>\n",
       "      <td>2016-08-24</td>\n",
       "      <td>普通住宅</td>\n",
       "      <td>满两年</td>\n",
       "      <td>共有</td>\n",
       "      <td>https://sh.lianjia.com/ershoufang/107102396774...</td>\n",
       "      <td>NaN</td>\n",
       "      <td>NaN</td>\n",
       "    </tr>\n",
       "    <tr>\n",
       "      <th>19</th>\n",
       "      <td>107102027599</td>\n",
       "      <td>此房满五不唯一  双南小两房  采光佳 适合刚需客</td>\n",
       "      <td>诸新三村</td>\n",
       "      <td>31.215003</td>\n",
       "      <td>121.296804</td>\n",
       "      <td>暂无信息</td>\n",
       "      <td>华漕</td>\n",
       "      <td>闵行</td>\n",
       "      <td>224.000000</td>\n",
       "      <td>暂无信息</td>\n",
       "      <td>...</td>\n",
       "      <td>无</td>\n",
       "      <td>2019-11-30</td>\n",
       "      <td>商品房</td>\n",
       "      <td>2002-02-12</td>\n",
       "      <td>普通住宅</td>\n",
       "      <td>满五年</td>\n",
       "      <td>共有</td>\n",
       "      <td>https://sh.lianjia.com/ershoufang/107102027599...</td>\n",
       "      <td>NaN</td>\n",
       "      <td>NaN</td>\n",
       "    </tr>\n",
       "    <tr>\n",
       "      <th>20</th>\n",
       "      <td>107102570156</td>\n",
       "      <td>颐亭花园(公寓) 2室2厅 364万</td>\n",
       "      <td>颐亭花园(公寓)</td>\n",
       "      <td>31.154224</td>\n",
       "      <td>121.303851</td>\n",
       "      <td>暂无信息</td>\n",
       "      <td>九亭</td>\n",
       "      <td>松江</td>\n",
       "      <td>364.000000</td>\n",
       "      <td>暂无信息</td>\n",
       "      <td>...</td>\n",
       "      <td>有</td>\n",
       "      <td>2020-05-23</td>\n",
       "      <td>商品房</td>\n",
       "      <td>2012-11-20</td>\n",
       "      <td>普通住宅</td>\n",
       "      <td>满五年</td>\n",
       "      <td>非共有</td>\n",
       "      <td>https://sh.lianjia.com/ershoufang/107102570156...</td>\n",
       "      <td>NaN</td>\n",
       "      <td>NaN</td>\n",
       "    </tr>\n",
       "    <tr>\n",
       "      <th>21</th>\n",
       "      <td>107102350619</td>\n",
       "      <td>急售！急售！三湘四季大三房  精装修 税费少 中高层</td>\n",
       "      <td>三湘四季花城</td>\n",
       "      <td>31.061573</td>\n",
       "      <td>121.235629</td>\n",
       "      <td>松江大学城站</td>\n",
       "      <td>松江大学城</td>\n",
       "      <td>松江</td>\n",
       "      <td>580.000000</td>\n",
       "      <td>9</td>\n",
       "      <td>...</td>\n",
       "      <td>有</td>\n",
       "      <td>2020-04-06</td>\n",
       "      <td>商品房</td>\n",
       "      <td>2007-12-19</td>\n",
       "      <td>普通住宅</td>\n",
       "      <td>满五年</td>\n",
       "      <td>共有</td>\n",
       "      <td>https://sh.lianjia.com/ershoufang/107102350619...</td>\n",
       "      <td>NaN</td>\n",
       "      <td>NaN</td>\n",
       "    </tr>\n",
       "    <tr>\n",
       "      <th>22</th>\n",
       "      <td>107102516047</td>\n",
       "      <td>此房满五唯一 南北户型，诚意出售 2001年商品房</td>\n",
       "      <td>联鑫坊</td>\n",
       "      <td>31.292274</td>\n",
       "      <td>121.590573</td>\n",
       "      <td>东陆路站</td>\n",
       "      <td>高行</td>\n",
       "      <td>浦东</td>\n",
       "      <td>415.000000</td>\n",
       "      <td>12</td>\n",
       "      <td>...</td>\n",
       "      <td>无</td>\n",
       "      <td>2020-05-11</td>\n",
       "      <td>商品房</td>\n",
       "      <td>暂无数据</td>\n",
       "      <td>普通住宅</td>\n",
       "      <td>暂无数据</td>\n",
       "      <td>非共有</td>\n",
       "      <td>https://sh.lianjia.com/ershoufang/107102516047...</td>\n",
       "      <td>NaN</td>\n",
       "      <td>NaN</td>\n",
       "    </tr>\n",
       "    <tr>\n",
       "      <th>23</th>\n",
       "      <td>107102538614</td>\n",
       "      <td>售后公房 满五唯一 双南双天井 精装修  采光无遮挡</td>\n",
       "      <td>杜鹃园</td>\n",
       "      <td>31.161461</td>\n",
       "      <td>121.419365</td>\n",
       "      <td>暂无信息</td>\n",
       "      <td>康健</td>\n",
       "      <td>徐汇</td>\n",
       "      <td>480.000000</td>\n",
       "      <td>暂无信息</td>\n",
       "      <td>...</td>\n",
       "      <td>无</td>\n",
       "      <td>2020-05-16</td>\n",
       "      <td>商品房</td>\n",
       "      <td>2018-06-15</td>\n",
       "      <td>普通住宅</td>\n",
       "      <td>未满两年</td>\n",
       "      <td>非共有</td>\n",
       "      <td>https://sh.lianjia.com/ershoufang/107102538614...</td>\n",
       "      <td>NaN</td>\n",
       "      <td>NaN</td>\n",
       "    </tr>\n",
       "    <tr>\n",
       "      <th>24</th>\n",
       "      <td>107102459990</td>\n",
       "      <td>【看完上瘾】南北两房+满五唯一+不靠马路+惊艳楼层</td>\n",
       "      <td>东一小区</td>\n",
       "      <td>31.276437</td>\n",
       "      <td>121.602715</td>\n",
       "      <td>五莲路站</td>\n",
       "      <td>金桥</td>\n",
       "      <td>浦东</td>\n",
       "      <td>300.000000</td>\n",
       "      <td>6</td>\n",
       "      <td>...</td>\n",
       "      <td>无</td>\n",
       "      <td>2020-04-29</td>\n",
       "      <td>商品房</td>\n",
       "      <td>暂无数据</td>\n",
       "      <td>普通住宅</td>\n",
       "      <td>暂无数据</td>\n",
       "      <td>共有</td>\n",
       "      <td>https://sh.lianjia.com/ershoufang/107102459990...</td>\n",
       "      <td>NaN</td>\n",
       "      <td>NaN</td>\n",
       "    </tr>\n",
       "    <tr>\n",
       "      <th>25</th>\n",
       "      <td>107102575351</td>\n",
       "      <td>售后公房 南北无遮挡 近地铁 中间楼层 采光通风好</td>\n",
       "      <td>宜山路701弄</td>\n",
       "      <td>31.179813</td>\n",
       "      <td>121.424264</td>\n",
       "      <td>桂林路站</td>\n",
       "      <td>田林</td>\n",
       "      <td>徐汇</td>\n",
       "      <td>338.000000</td>\n",
       "      <td>9</td>\n",
       "      <td>...</td>\n",
       "      <td>无</td>\n",
       "      <td>2020-05-24</td>\n",
       "      <td>商品房</td>\n",
       "      <td>暂无数据</td>\n",
       "      <td>普通住宅</td>\n",
       "      <td>暂无数据</td>\n",
       "      <td>共有</td>\n",
       "      <td>https://sh.lianjia.com/ershoufang/107102575351...</td>\n",
       "      <td>NaN</td>\n",
       "      <td>NaN</td>\n",
       "    </tr>\n",
       "    <tr>\n",
       "      <th>26</th>\n",
       "      <td>107102489709</td>\n",
       "      <td>店长推荐售后公房全明双南两房产权清晰看房方便</td>\n",
       "      <td>八一小区</td>\n",
       "      <td>31.293995</td>\n",
       "      <td>121.498771</td>\n",
       "      <td>暂无信息</td>\n",
       "      <td>曲阳</td>\n",
       "      <td>虹口</td>\n",
       "      <td>308.000000</td>\n",
       "      <td>暂无信息</td>\n",
       "      <td>...</td>\n",
       "      <td>无</td>\n",
       "      <td>2020-05-06</td>\n",
       "      <td>商品房</td>\n",
       "      <td>1995-04-14</td>\n",
       "      <td>普通住宅</td>\n",
       "      <td>满五年</td>\n",
       "      <td>非共有</td>\n",
       "      <td>https://sh.lianjia.com/ershoufang/107102489709...</td>\n",
       "      <td>NaN</td>\n",
       "      <td>NaN</td>\n",
       "    </tr>\n",
       "    <tr>\n",
       "      <th>27</th>\n",
       "      <td>107102486465</td>\n",
       "      <td>松江新城精装修 低总价三房税费少 带电梯 属民乐 诚</td>\n",
       "      <td>江诚苑</td>\n",
       "      <td>31.030656</td>\n",
       "      <td>121.234782</td>\n",
       "      <td>松江新城站</td>\n",
       "      <td>松江新城</td>\n",
       "      <td>松江</td>\n",
       "      <td>319.000000</td>\n",
       "      <td>9</td>\n",
       "      <td>...</td>\n",
       "      <td>无</td>\n",
       "      <td>2020-05-05</td>\n",
       "      <td>商品房</td>\n",
       "      <td>2011-06-15</td>\n",
       "      <td>普通住宅</td>\n",
       "      <td>满五年</td>\n",
       "      <td>非共有</td>\n",
       "      <td>https://sh.lianjia.com/ershoufang/107102486465...</td>\n",
       "      <td>NaN</td>\n",
       "      <td>NaN</td>\n",
       "    </tr>\n",
       "    <tr>\n",
       "      <th>28</th>\n",
       "      <td>107102483455</td>\n",
       "      <td>南面临河南北通小三房，楼层佳，婚房装修，诚意出售</td>\n",
       "      <td>绿庭尚城</td>\n",
       "      <td>31.152953</td>\n",
       "      <td>121.318414</td>\n",
       "      <td>暂无信息</td>\n",
       "      <td>九亭</td>\n",
       "      <td>松江</td>\n",
       "      <td>390.000000</td>\n",
       "      <td>暂无信息</td>\n",
       "      <td>...</td>\n",
       "      <td>有</td>\n",
       "      <td>2020-05-04</td>\n",
       "      <td>商品房</td>\n",
       "      <td>2012-08-30</td>\n",
       "      <td>普通住宅</td>\n",
       "      <td>满五年</td>\n",
       "      <td>非共有</td>\n",
       "      <td>https://sh.lianjia.com/ershoufang/107102483455...</td>\n",
       "      <td>NaN</td>\n",
       "      <td>NaN</td>\n",
       "    </tr>\n",
       "    <tr>\n",
       "      <th>29</th>\n",
       "      <td>107102455791</td>\n",
       "      <td>全明户型，双南两房，楼层好，采光佳，税费少</td>\n",
       "      <td>蒲汇新村</td>\n",
       "      <td>31.162049</td>\n",
       "      <td>121.362820</td>\n",
       "      <td>七宝站</td>\n",
       "      <td>七宝</td>\n",
       "      <td>闵行</td>\n",
       "      <td>424.000000</td>\n",
       "      <td>9</td>\n",
       "      <td>...</td>\n",
       "      <td>无</td>\n",
       "      <td>2020-04-28</td>\n",
       "      <td>商品房</td>\n",
       "      <td>2015-12-04</td>\n",
       "      <td>普通住宅</td>\n",
       "      <td>满两年</td>\n",
       "      <td>共有</td>\n",
       "      <td>https://sh.lianjia.com/ershoufang/107102455791...</td>\n",
       "      <td>NaN</td>\n",
       "      <td>NaN</td>\n",
       "    </tr>\n",
       "    <tr>\n",
       "      <th>...</th>\n",
       "      <td>...</td>\n",
       "      <td>...</td>\n",
       "      <td>...</td>\n",
       "      <td>...</td>\n",
       "      <td>...</td>\n",
       "      <td>...</td>\n",
       "      <td>...</td>\n",
       "      <td>...</td>\n",
       "      <td>...</td>\n",
       "      <td>...</td>\n",
       "      <td>...</td>\n",
       "      <td>...</td>\n",
       "      <td>...</td>\n",
       "      <td>...</td>\n",
       "      <td>...</td>\n",
       "      <td>...</td>\n",
       "      <td>...</td>\n",
       "      <td>...</td>\n",
       "      <td>...</td>\n",
       "      <td>...</td>\n",
       "      <td>...</td>\n",
       "    </tr>\n",
       "    <tr>\n",
       "      <th>2914</th>\n",
       "      <td>107102334889</td>\n",
       "      <td>西边套全明户型景观楼层，行方便，配套齐全近17号线</td>\n",
       "      <td>崧泽华城佳福雅苑（四区）</td>\n",
       "      <td>31.160738</td>\n",
       "      <td>121.163654</td>\n",
       "      <td>暂无信息</td>\n",
       "      <td>赵巷</td>\n",
       "      <td>青浦</td>\n",
       "      <td>224.000000</td>\n",
       "      <td>暂无信息</td>\n",
       "      <td>...</td>\n",
       "      <td>有</td>\n",
       "      <td>2020-04-03</td>\n",
       "      <td>动迁安置房</td>\n",
       "      <td>暂无数据</td>\n",
       "      <td>普通住宅</td>\n",
       "      <td>暂无数据</td>\n",
       "      <td>共有</td>\n",
       "      <td>https://sh.lianjia.com/ershoufang/107102334889...</td>\n",
       "      <td>NaN</td>\n",
       "      <td>NaN</td>\n",
       "    </tr>\n",
       "    <tr>\n",
       "      <th>2915</th>\n",
       "      <td>107102336056</td>\n",
       "      <td>杨思前滩+婚房装修入住+东边套全明++8号线杨思站口</td>\n",
       "      <td>杨新路80弄</td>\n",
       "      <td>31.169597</td>\n",
       "      <td>121.500274</td>\n",
       "      <td>杨思站</td>\n",
       "      <td>杨思前滩</td>\n",
       "      <td>浦东</td>\n",
       "      <td>290.000000</td>\n",
       "      <td>8</td>\n",
       "      <td>...</td>\n",
       "      <td>无</td>\n",
       "      <td>2020-04-03</td>\n",
       "      <td>售后公房</td>\n",
       "      <td>2020-04-15</td>\n",
       "      <td>普通住宅</td>\n",
       "      <td>未满两年</td>\n",
       "      <td>共有</td>\n",
       "      <td>https://sh.lianjia.com/ershoufang/107102336056...</td>\n",
       "      <td>NaN</td>\n",
       "      <td>NaN</td>\n",
       "    </tr>\n",
       "    <tr>\n",
       "      <th>2916</th>\n",
       "      <td>107102341941</td>\n",
       "      <td>精装修一楼带院子南北通户型。。</td>\n",
       "      <td>红旗四街坊</td>\n",
       "      <td>31.020132</td>\n",
       "      <td>121.403961</td>\n",
       "      <td>支线华宁路站</td>\n",
       "      <td>老闵行</td>\n",
       "      <td>闵行</td>\n",
       "      <td>135.000000</td>\n",
       "      <td>5</td>\n",
       "      <td>...</td>\n",
       "      <td>无</td>\n",
       "      <td>2020-04-04</td>\n",
       "      <td>商品房</td>\n",
       "      <td>暂无数据</td>\n",
       "      <td>普通住宅</td>\n",
       "      <td>暂无数据</td>\n",
       "      <td>非共有</td>\n",
       "      <td>https://sh.lianjia.com/ershoufang/107102341941...</td>\n",
       "      <td>NaN</td>\n",
       "      <td>NaN</td>\n",
       "    </tr>\n",
       "    <tr>\n",
       "      <th>2917</th>\n",
       "      <td>107102344232</td>\n",
       "      <td>中间楼层，售后公房，交通方便，户型方正</td>\n",
       "      <td>新世纪花苑(一期)(浦东)</td>\n",
       "      <td>31.180847</td>\n",
       "      <td>121.490150</td>\n",
       "      <td>长清路站</td>\n",
       "      <td>世博</td>\n",
       "      <td>浦东</td>\n",
       "      <td>330.000000</td>\n",
       "      <td>7</td>\n",
       "      <td>...</td>\n",
       "      <td>无</td>\n",
       "      <td>2020-04-05</td>\n",
       "      <td>商品房</td>\n",
       "      <td>暂无数据</td>\n",
       "      <td>普通住宅</td>\n",
       "      <td>暂无数据</td>\n",
       "      <td>共有</td>\n",
       "      <td>https://sh.lianjia.com/ershoufang/107102344232...</td>\n",
       "      <td>NaN</td>\n",
       "      <td>NaN</td>\n",
       "    </tr>\n",
       "    <tr>\n",
       "      <th>2918</th>\n",
       "      <td>107102386730</td>\n",
       "      <td>有产证可过户丰宝苑新小区，一手动迁。双轨上大电梯房</td>\n",
       "      <td>丰宝苑</td>\n",
       "      <td>31.322027</td>\n",
       "      <td>121.380022</td>\n",
       "      <td>暂无信息</td>\n",
       "      <td>上大</td>\n",
       "      <td>宝山</td>\n",
       "      <td>278.000000</td>\n",
       "      <td>暂无信息</td>\n",
       "      <td>...</td>\n",
       "      <td>暂无数据</td>\n",
       "      <td>2020-04-13</td>\n",
       "      <td>动迁安置房</td>\n",
       "      <td>2015-03-07</td>\n",
       "      <td>普通住宅</td>\n",
       "      <td>未满两年</td>\n",
       "      <td>共有</td>\n",
       "      <td>https://sh.lianjia.com/ershoufang/107102386730...</td>\n",
       "      <td>NaN</td>\n",
       "      <td>NaN</td>\n",
       "    </tr>\n",
       "    <tr>\n",
       "      <th>2919</th>\n",
       "      <td>107102387270</td>\n",
       "      <td>一梯三户+近地铁12号线+近欧尚+带院子</td>\n",
       "      <td>长隆住宅小区</td>\n",
       "      <td>31.279652</td>\n",
       "      <td>121.547782</td>\n",
       "      <td>隆昌路站</td>\n",
       "      <td>周家嘴路</td>\n",
       "      <td>杨浦</td>\n",
       "      <td>292.000000</td>\n",
       "      <td>12</td>\n",
       "      <td>...</td>\n",
       "      <td>无</td>\n",
       "      <td>2020-04-13</td>\n",
       "      <td>商品房</td>\n",
       "      <td>暂无数据</td>\n",
       "      <td>普通住宅</td>\n",
       "      <td>暂无数据</td>\n",
       "      <td>共有</td>\n",
       "      <td>https://sh.lianjia.com/ershoufang/107102387270...</td>\n",
       "      <td>NaN</td>\n",
       "      <td>NaN</td>\n",
       "    </tr>\n",
       "    <tr>\n",
       "      <th>2920</th>\n",
       "      <td>107102396317</td>\n",
       "      <td>双轨覆盖+中间楼层+必看好房+诚心出售</td>\n",
       "      <td>丰庄四村</td>\n",
       "      <td>31.253748</td>\n",
       "      <td>121.376203</td>\n",
       "      <td>祁连山南路站</td>\n",
       "      <td>丰庄</td>\n",
       "      <td>嘉定</td>\n",
       "      <td>188.500000</td>\n",
       "      <td>13</td>\n",
       "      <td>...</td>\n",
       "      <td>无</td>\n",
       "      <td>2020-04-16</td>\n",
       "      <td>商品房</td>\n",
       "      <td>暂无数据</td>\n",
       "      <td>普通住宅</td>\n",
       "      <td>暂无数据</td>\n",
       "      <td>非共有</td>\n",
       "      <td>https://sh.lianjia.com/ershoufang/107102396317...</td>\n",
       "      <td>NaN</td>\n",
       "      <td>NaN</td>\n",
       "    </tr>\n",
       "    <tr>\n",
       "      <th>2921</th>\n",
       "      <td>107102428132</td>\n",
       "      <td>安塞小区 2室0厅 295万</td>\n",
       "      <td>安塞小区</td>\n",
       "      <td>31.270370</td>\n",
       "      <td>121.431757</td>\n",
       "      <td>新村路站</td>\n",
       "      <td>甘泉宜川</td>\n",
       "      <td>普陀</td>\n",
       "      <td>295.000000</td>\n",
       "      <td>7</td>\n",
       "      <td>...</td>\n",
       "      <td>无</td>\n",
       "      <td>2020-04-22</td>\n",
       "      <td>商品房</td>\n",
       "      <td>暂无数据</td>\n",
       "      <td>普通住宅</td>\n",
       "      <td>暂无数据</td>\n",
       "      <td>共有</td>\n",
       "      <td>https://sh.lianjia.com/ershoufang/107102428132...</td>\n",
       "      <td>NaN</td>\n",
       "      <td>NaN</td>\n",
       "    </tr>\n",
       "    <tr>\n",
       "      <th>2922</th>\n",
       "      <td>107102435296</td>\n",
       "      <td>近地铁，楼层适中，配套齐全，装修好</td>\n",
       "      <td>东城花苑一村</td>\n",
       "      <td>31.057455</td>\n",
       "      <td>121.773603</td>\n",
       "      <td>暂无信息</td>\n",
       "      <td>惠南</td>\n",
       "      <td>浦东</td>\n",
       "      <td>243.000000</td>\n",
       "      <td>暂无信息</td>\n",
       "      <td>...</td>\n",
       "      <td>无</td>\n",
       "      <td>2020-04-24</td>\n",
       "      <td>商品房</td>\n",
       "      <td>暂无数据</td>\n",
       "      <td>普通住宅</td>\n",
       "      <td>暂无数据</td>\n",
       "      <td>共有</td>\n",
       "      <td>https://sh.lianjia.com/ershoufang/107102435296...</td>\n",
       "      <td>NaN</td>\n",
       "      <td>NaN</td>\n",
       "    </tr>\n",
       "    <tr>\n",
       "      <th>2923</th>\n",
       "      <td>107102442493</td>\n",
       "      <td>温馨小两居 诚意出售 紫气东来 价优质良</td>\n",
       "      <td>清涧四街坊</td>\n",
       "      <td>31.267111</td>\n",
       "      <td>121.393108</td>\n",
       "      <td>暂无信息</td>\n",
       "      <td>真光</td>\n",
       "      <td>普陀</td>\n",
       "      <td>299.000000</td>\n",
       "      <td>暂无信息</td>\n",
       "      <td>...</td>\n",
       "      <td>无</td>\n",
       "      <td>2020-04-25</td>\n",
       "      <td>商品房</td>\n",
       "      <td>2000-11-28</td>\n",
       "      <td>普通住宅</td>\n",
       "      <td>未满两年</td>\n",
       "      <td>共有</td>\n",
       "      <td>https://sh.lianjia.com/ershoufang/107102442493...</td>\n",
       "      <td>NaN</td>\n",
       "      <td>NaN</td>\n",
       "    </tr>\n",
       "    <tr>\n",
       "      <th>2924</th>\n",
       "      <td>107102459034</td>\n",
       "      <td>店长推荐精装两房 满五年 采光好小区好位置 拎包入住</td>\n",
       "      <td>春申玫瑰苑</td>\n",
       "      <td>31.112494</td>\n",
       "      <td>121.404701</td>\n",
       "      <td>暂无信息</td>\n",
       "      <td>莘庄</td>\n",
       "      <td>闵行</td>\n",
       "      <td>617.000000</td>\n",
       "      <td>暂无信息</td>\n",
       "      <td>...</td>\n",
       "      <td>有</td>\n",
       "      <td>2020-04-29</td>\n",
       "      <td>商品房</td>\n",
       "      <td>暂无数据</td>\n",
       "      <td>普通住宅</td>\n",
       "      <td>暂无数据</td>\n",
       "      <td>共有</td>\n",
       "      <td>https://sh.lianjia.com/ershoufang/107102459034...</td>\n",
       "      <td>NaN</td>\n",
       "      <td>NaN</td>\n",
       "    </tr>\n",
       "    <tr>\n",
       "      <th>2925</th>\n",
       "      <td>107102462399</td>\n",
       "      <td>诚意出售、楼层佳、双南户型、产权清晰、看房方便</td>\n",
       "      <td>罗阳三村</td>\n",
       "      <td>31.129032</td>\n",
       "      <td>121.414458</td>\n",
       "      <td>暂无信息</td>\n",
       "      <td>梅陇</td>\n",
       "      <td>闵行</td>\n",
       "      <td>360.000000</td>\n",
       "      <td>暂无信息</td>\n",
       "      <td>...</td>\n",
       "      <td>无</td>\n",
       "      <td>2020-04-30</td>\n",
       "      <td>商品房</td>\n",
       "      <td>暂无数据</td>\n",
       "      <td>普通住宅</td>\n",
       "      <td>暂无数据</td>\n",
       "      <td>非共有</td>\n",
       "      <td>https://sh.lianjia.com/ershoufang/107102462399...</td>\n",
       "      <td>NaN</td>\n",
       "      <td>NaN</td>\n",
       "    </tr>\n",
       "    <tr>\n",
       "      <th>2926</th>\n",
       "      <td>107102464701</td>\n",
       "      <td>原始两房,楼层位置佳,交通便利,配套齐全</td>\n",
       "      <td>东唐苑</td>\n",
       "      <td>31.215831</td>\n",
       "      <td>121.660118</td>\n",
       "      <td>唐镇站</td>\n",
       "      <td>唐镇</td>\n",
       "      <td>浦东</td>\n",
       "      <td>340.000000</td>\n",
       "      <td>2</td>\n",
       "      <td>...</td>\n",
       "      <td>无</td>\n",
       "      <td>2020-04-30</td>\n",
       "      <td>商品房</td>\n",
       "      <td>暂无数据</td>\n",
       "      <td>普通住宅</td>\n",
       "      <td>暂无数据</td>\n",
       "      <td>共有</td>\n",
       "      <td>https://sh.lianjia.com/ershoufang/107102464701...</td>\n",
       "      <td>NaN</td>\n",
       "      <td>NaN</td>\n",
       "    </tr>\n",
       "    <tr>\n",
       "      <th>2927</th>\n",
       "      <td>107102469197</td>\n",
       "      <td>我在客厅和卧室，都能俯瞰花园风光，享受阳光</td>\n",
       "      <td>徐泾北城欣沁苑东区</td>\n",
       "      <td>31.189305</td>\n",
       "      <td>121.246306</td>\n",
       "      <td>暂无信息</td>\n",
       "      <td>华新</td>\n",
       "      <td>青浦</td>\n",
       "      <td>260.000000</td>\n",
       "      <td>暂无信息</td>\n",
       "      <td>...</td>\n",
       "      <td>有</td>\n",
       "      <td>2020-05-01</td>\n",
       "      <td>动迁安置房</td>\n",
       "      <td>2019-09-07</td>\n",
       "      <td>普通住宅</td>\n",
       "      <td>未满两年</td>\n",
       "      <td>非共有</td>\n",
       "      <td>https://sh.lianjia.com/ershoufang/107102469197...</td>\n",
       "      <td>NaN</td>\n",
       "      <td>NaN</td>\n",
       "    </tr>\n",
       "    <tr>\n",
       "      <th>2928</th>\n",
       "      <td>107100030666</td>\n",
       "      <td>万体馆朝南大一房+全明户型+业主置换+诚意出售随时看</td>\n",
       "      <td>零陵小区</td>\n",
       "      <td>31.193505</td>\n",
       "      <td>121.450993</td>\n",
       "      <td>上海体育场站</td>\n",
       "      <td>徐家汇</td>\n",
       "      <td>徐汇</td>\n",
       "      <td>340.000000</td>\n",
       "      <td>4</td>\n",
       "      <td>...</td>\n",
       "      <td>无</td>\n",
       "      <td>2018-02-25</td>\n",
       "      <td>商品房</td>\n",
       "      <td>暂无数据</td>\n",
       "      <td>普通住宅</td>\n",
       "      <td>暂无数据</td>\n",
       "      <td>非共有</td>\n",
       "      <td>https://sh.lianjia.com/ershoufang/107100030666...</td>\n",
       "      <td>NaN</td>\n",
       "      <td>NaN</td>\n",
       "    </tr>\n",
       "    <tr>\n",
       "      <th>2929</th>\n",
       "      <td>107101151178</td>\n",
       "      <td>白雪公主低总价次新房+诚心出售</td>\n",
       "      <td>白雪公主</td>\n",
       "      <td>31.143992</td>\n",
       "      <td>121.362933</td>\n",
       "      <td>暂无信息</td>\n",
       "      <td>七宝</td>\n",
       "      <td>闵行</td>\n",
       "      <td>528.000000</td>\n",
       "      <td>暂无信息</td>\n",
       "      <td>...</td>\n",
       "      <td>无</td>\n",
       "      <td>2019-03-24</td>\n",
       "      <td>商品房</td>\n",
       "      <td>暂无数据</td>\n",
       "      <td>普通住宅</td>\n",
       "      <td>暂无数据</td>\n",
       "      <td>非共有</td>\n",
       "      <td>https://sh.lianjia.com/ershoufang/107101151178...</td>\n",
       "      <td>NaN</td>\n",
       "      <td>NaN</td>\n",
       "    </tr>\n",
       "    <tr>\n",
       "      <th>2930</th>\n",
       "      <td>107101523226</td>\n",
       "      <td>位置安静 满五年唯一 未用 适合自住 单价低</td>\n",
       "      <td>梅园五街坊</td>\n",
       "      <td>31.237800</td>\n",
       "      <td>121.536019</td>\n",
       "      <td>世纪大道站</td>\n",
       "      <td>梅园</td>\n",
       "      <td>浦东</td>\n",
       "      <td>630.000000</td>\n",
       "      <td>2</td>\n",
       "      <td>...</td>\n",
       "      <td>无</td>\n",
       "      <td>2019-07-11</td>\n",
       "      <td>商品房</td>\n",
       "      <td>暂无数据</td>\n",
       "      <td>普通住宅</td>\n",
       "      <td>暂无数据</td>\n",
       "      <td>非共有</td>\n",
       "      <td>https://sh.lianjia.com/ershoufang/107101523226...</td>\n",
       "      <td>NaN</td>\n",
       "      <td>NaN</td>\n",
       "    </tr>\n",
       "    <tr>\n",
       "      <th>2931</th>\n",
       "      <td>107101535649</td>\n",
       "      <td>低总价双南两房，业主诚意出售，地段好配套全</td>\n",
       "      <td>西木小区</td>\n",
       "      <td>31.200581</td>\n",
       "      <td>121.464971</td>\n",
       "      <td>大木桥路站</td>\n",
       "      <td>斜土路</td>\n",
       "      <td>徐汇</td>\n",
       "      <td>330.000000</td>\n",
       "      <td>4</td>\n",
       "      <td>...</td>\n",
       "      <td>无</td>\n",
       "      <td>2019-07-14</td>\n",
       "      <td>商品房</td>\n",
       "      <td>2018-06-28</td>\n",
       "      <td>普通住宅</td>\n",
       "      <td>未满两年</td>\n",
       "      <td>共有</td>\n",
       "      <td>https://sh.lianjia.com/ershoufang/107101535649...</td>\n",
       "      <td>NaN</td>\n",
       "      <td>NaN</td>\n",
       "    </tr>\n",
       "    <tr>\n",
       "      <th>2932</th>\n",
       "      <td>107101517274</td>\n",
       "      <td>一梯两户主卧朝南带阳台，南北户型，前后无遮挡采光好</td>\n",
       "      <td>凤庆小区</td>\n",
       "      <td>31.021261</td>\n",
       "      <td>121.407872</td>\n",
       "      <td>暂无信息</td>\n",
       "      <td>老闵行</td>\n",
       "      <td>闵行</td>\n",
       "      <td>146.800000</td>\n",
       "      <td>暂无信息</td>\n",
       "      <td>...</td>\n",
       "      <td>无</td>\n",
       "      <td>2019-07-09</td>\n",
       "      <td>商品房</td>\n",
       "      <td>2016-05-16</td>\n",
       "      <td>普通住宅</td>\n",
       "      <td>未满两年</td>\n",
       "      <td>非共有</td>\n",
       "      <td>https://sh.lianjia.com/ershoufang/107101517274...</td>\n",
       "      <td>NaN</td>\n",
       "      <td>NaN</td>\n",
       "    </tr>\n",
       "    <tr>\n",
       "      <th>2933</th>\n",
       "      <td>107102467382</td>\n",
       "      <td>地铁口， 总价低，满五不唯一，可投*资可自住，地铁口</td>\n",
       "      <td>丽丽小区</td>\n",
       "      <td>31.212004</td>\n",
       "      <td>121.488528</td>\n",
       "      <td>马当路站</td>\n",
       "      <td>五里桥</td>\n",
       "      <td>黄浦</td>\n",
       "      <td>245.000000</td>\n",
       "      <td>9</td>\n",
       "      <td>...</td>\n",
       "      <td>无</td>\n",
       "      <td>2020-05-01</td>\n",
       "      <td>商品房</td>\n",
       "      <td>暂无数据</td>\n",
       "      <td>普通住宅</td>\n",
       "      <td>暂无数据</td>\n",
       "      <td>共有</td>\n",
       "      <td>https://sh.lianjia.com/ershoufang/107102467382...</td>\n",
       "      <td>NaN</td>\n",
       "      <td>NaN</td>\n",
       "    </tr>\n",
       "    <tr>\n",
       "      <th>2934</th>\n",
       "      <td>107102479560</td>\n",
       "      <td>售后公房+得房率高+淮海路上实+８号１４号线步行可达</td>\n",
       "      <td>桃源新村</td>\n",
       "      <td>31.231074</td>\n",
       "      <td>121.488413</td>\n",
       "      <td>大世界站</td>\n",
       "      <td>老西门</td>\n",
       "      <td>黄浦</td>\n",
       "      <td>350.000000</td>\n",
       "      <td>8</td>\n",
       "      <td>...</td>\n",
       "      <td>无</td>\n",
       "      <td>2020-05-04</td>\n",
       "      <td>售后公房</td>\n",
       "      <td>2020-05-04</td>\n",
       "      <td>普通住宅</td>\n",
       "      <td>未满两年</td>\n",
       "      <td>非共有</td>\n",
       "      <td>https://sh.lianjia.com/ershoufang/107102479560...</td>\n",
       "      <td>NaN</td>\n",
       "      <td>NaN</td>\n",
       "    </tr>\n",
       "    <tr>\n",
       "      <th>2935</th>\n",
       "      <td>107102496833</td>\n",
       "      <td>内环低总价小一房，全明户型采光好，看房方便</td>\n",
       "      <td>宁康小区</td>\n",
       "      <td>31.226811</td>\n",
       "      <td>121.419770</td>\n",
       "      <td>中山公园站</td>\n",
       "      <td>中山公园</td>\n",
       "      <td>长宁</td>\n",
       "      <td>195.000000</td>\n",
       "      <td>2</td>\n",
       "      <td>...</td>\n",
       "      <td>无</td>\n",
       "      <td>2020-05-07</td>\n",
       "      <td>商品房</td>\n",
       "      <td>暂无数据</td>\n",
       "      <td>普通住宅</td>\n",
       "      <td>暂无数据</td>\n",
       "      <td>非共有</td>\n",
       "      <td>https://sh.lianjia.com/ershoufang/107102496833...</td>\n",
       "      <td>NaN</td>\n",
       "      <td>NaN</td>\n",
       "    </tr>\n",
       "    <tr>\n",
       "      <th>2936</th>\n",
       "      <td>107102504634</td>\n",
       "      <td>中间楼层，精装修，随时可签，业主诚意出售</td>\n",
       "      <td>兰园小区</td>\n",
       "      <td>31.230563</td>\n",
       "      <td>121.520003</td>\n",
       "      <td>商城路站</td>\n",
       "      <td>陆家嘴</td>\n",
       "      <td>浦东</td>\n",
       "      <td>260.000000</td>\n",
       "      <td>9</td>\n",
       "      <td>...</td>\n",
       "      <td>无</td>\n",
       "      <td>2020-05-09</td>\n",
       "      <td>商品房</td>\n",
       "      <td>暂无数据</td>\n",
       "      <td>普通住宅</td>\n",
       "      <td>暂无数据</td>\n",
       "      <td>非共有</td>\n",
       "      <td>https://sh.lianjia.com/ershoufang/107102504634...</td>\n",
       "      <td>NaN</td>\n",
       "      <td>NaN</td>\n",
       "    </tr>\n",
       "    <tr>\n",
       "      <th>2937</th>\n",
       "      <td>107102514236</td>\n",
       "      <td>1990年小区+地铁口+中间楼层+边套全明户型+看房方便</td>\n",
       "      <td>延西小区</td>\n",
       "      <td>31.213244</td>\n",
       "      <td>121.423096</td>\n",
       "      <td>延安西路站</td>\n",
       "      <td>新华路</td>\n",
       "      <td>长宁</td>\n",
       "      <td>215.000000</td>\n",
       "      <td>3</td>\n",
       "      <td>...</td>\n",
       "      <td>无</td>\n",
       "      <td>2020-05-11</td>\n",
       "      <td>商品房</td>\n",
       "      <td>暂无数据</td>\n",
       "      <td>普通住宅</td>\n",
       "      <td>暂无数据</td>\n",
       "      <td>共有</td>\n",
       "      <td>https://sh.lianjia.com/ershoufang/107102514236...</td>\n",
       "      <td>NaN</td>\n",
       "      <td>NaN</td>\n",
       "    </tr>\n",
       "    <tr>\n",
       "      <th>2938</th>\n",
       "      <td>107102523231</td>\n",
       "      <td>满五唯一，视野开阔，总价低，采光刺眼，对口清流</td>\n",
       "      <td>上南六村</td>\n",
       "      <td>31.183107</td>\n",
       "      <td>121.507911</td>\n",
       "      <td>耀华路站</td>\n",
       "      <td>世博</td>\n",
       "      <td>浦东</td>\n",
       "      <td>210.000000</td>\n",
       "      <td>7</td>\n",
       "      <td>...</td>\n",
       "      <td>无</td>\n",
       "      <td>2020-05-13</td>\n",
       "      <td>商品房</td>\n",
       "      <td>暂无数据</td>\n",
       "      <td>普通住宅</td>\n",
       "      <td>暂无数据</td>\n",
       "      <td>暂无数据</td>\n",
       "      <td>https://sh.lianjia.com/ershoufang/107102523231...</td>\n",
       "      <td>NaN</td>\n",
       "      <td>NaN</td>\n",
       "    </tr>\n",
       "    <tr>\n",
       "      <th>2939</th>\n",
       "      <td>107102527724</td>\n",
       "      <td>近3/4号线中潭路站，精装朝南一房一厅，满五唯一</td>\n",
       "      <td>宜川六村</td>\n",
       "      <td>31.265012</td>\n",
       "      <td>121.445492</td>\n",
       "      <td>中潭路站</td>\n",
       "      <td>甘泉宜川</td>\n",
       "      <td>普陀</td>\n",
       "      <td>203.000000</td>\n",
       "      <td>3</td>\n",
       "      <td>...</td>\n",
       "      <td>无</td>\n",
       "      <td>2020-05-14</td>\n",
       "      <td>商品房</td>\n",
       "      <td>暂无数据</td>\n",
       "      <td>普通住宅</td>\n",
       "      <td>暂无数据</td>\n",
       "      <td>非共有</td>\n",
       "      <td>https://sh.lianjia.com/ershoufang/107102527724...</td>\n",
       "      <td>NaN</td>\n",
       "      <td>NaN</td>\n",
       "    </tr>\n",
       "    <tr>\n",
       "      <th>2940</th>\n",
       "      <td>107102538856</td>\n",
       "      <td>8号地铁2楼南北精装+厨卫朝北采光通风+适合全年龄段</td>\n",
       "      <td>兰花新村</td>\n",
       "      <td>31.309076</td>\n",
       "      <td>121.534811</td>\n",
       "      <td>翔殷路站</td>\n",
       "      <td>黄兴公园</td>\n",
       "      <td>杨浦</td>\n",
       "      <td>312.000000</td>\n",
       "      <td>8</td>\n",
       "      <td>...</td>\n",
       "      <td>无</td>\n",
       "      <td>2020-05-16</td>\n",
       "      <td>商品房</td>\n",
       "      <td>暂无数据</td>\n",
       "      <td>普通住宅</td>\n",
       "      <td>暂无数据</td>\n",
       "      <td>非共有</td>\n",
       "      <td>https://sh.lianjia.com/ershoufang/107102538856...</td>\n",
       "      <td>NaN</td>\n",
       "      <td>NaN</td>\n",
       "    </tr>\n",
       "    <tr>\n",
       "      <th>2941</th>\n",
       "      <td>107102593124</td>\n",
       "      <td>飞虹路1047弄 2室1厅 426万</td>\n",
       "      <td>飞虹路1047弄</td>\n",
       "      <td>31.273769</td>\n",
       "      <td>121.521762</td>\n",
       "      <td>鞍山新村站</td>\n",
       "      <td>周家嘴路</td>\n",
       "      <td>杨浦</td>\n",
       "      <td>426.000000</td>\n",
       "      <td>8</td>\n",
       "      <td>...</td>\n",
       "      <td>有</td>\n",
       "      <td>2020-05-28</td>\n",
       "      <td>商品房</td>\n",
       "      <td>暂无数据</td>\n",
       "      <td>普通住宅</td>\n",
       "      <td>暂无数据</td>\n",
       "      <td>暂无数据</td>\n",
       "      <td>https://sh.lianjia.com/ershoufang/107102593124...</td>\n",
       "      <td>NaN</td>\n",
       "      <td>NaN</td>\n",
       "    </tr>\n",
       "    <tr>\n",
       "      <th>2942</th>\n",
       "      <td>107102603744</td>\n",
       "      <td>湖畔天下 3室2厅 500万</td>\n",
       "      <td>湖畔天下</td>\n",
       "      <td>31.318253</td>\n",
       "      <td>121.311673</td>\n",
       "      <td>暂无信息</td>\n",
       "      <td>南翔</td>\n",
       "      <td>嘉定</td>\n",
       "      <td>500.000000</td>\n",
       "      <td>暂无信息</td>\n",
       "      <td>...</td>\n",
       "      <td>有</td>\n",
       "      <td>2020-05-30</td>\n",
       "      <td>商品房</td>\n",
       "      <td>暂无数据</td>\n",
       "      <td>普通住宅</td>\n",
       "      <td>暂无数据</td>\n",
       "      <td>非共有</td>\n",
       "      <td>https://sh.lianjia.com/ershoufang/107102603744...</td>\n",
       "      <td>NaN</td>\n",
       "      <td>NaN</td>\n",
       "    </tr>\n",
       "    <tr>\n",
       "      <th>2943</th>\n",
       "      <td>107101509095</td>\n",
       "      <td>业主精装一年，全明户型，近河边位置好</td>\n",
       "      <td>丰庄十四街坊</td>\n",
       "      <td>31.254349</td>\n",
       "      <td>121.361900</td>\n",
       "      <td>丰庄站</td>\n",
       "      <td>丰庄</td>\n",
       "      <td>嘉定</td>\n",
       "      <td>220.000000</td>\n",
       "      <td>13</td>\n",
       "      <td>...</td>\n",
       "      <td>无</td>\n",
       "      <td>2019-07-07</td>\n",
       "      <td>商品房</td>\n",
       "      <td>2010-05-28</td>\n",
       "      <td>普通住宅</td>\n",
       "      <td>未满两年</td>\n",
       "      <td>共有</td>\n",
       "      <td>https://sh.lianjia.com/ershoufang/107101509095...</td>\n",
       "      <td>NaN</td>\n",
       "      <td>NaN</td>\n",
       "    </tr>\n",
       "  </tbody>\n",
       "</table>\n",
       "<p>2944 rows × 37 columns</p>\n",
       "</div>"
      ],
      "text/plain": [
       "              链家编号                           标题             小区名称      小区纬度  \\\n",
       "0     107102345339       内环内世纪公园满五唯一精装两房中楼层诚意出售          牡丹路186弄 31.212354   \n",
       "1     107102573875     5楼，满五唯一，精装修，不靠路，诚意出售，看房约             爱法新城 31.283734   \n",
       "2     107102253648  杨思前滩+电梯中层+税少+诚意出售+随时可看，可谈！！  三林世博家园(大道站路94弄) 31.164962   \n",
       "3     107102425179      此房满五唯一，南北格局通透，视野宽阔，采光充足         西谈家渡路17弄 31.241109   \n",
       "4     107102249065    徐浦大桥全景，江景房，一手动迁毛坯房，高层全明户型             华沁家园 31.143257   \n",
       "...            ...                          ...              ...       ...   \n",
       "2939  107102527724     近3/4号线中潭路站，精装朝南一房一厅，满五唯一             宜川六村 31.265012   \n",
       "2940  107102538856   8号地铁2楼南北精装+厨卫朝北采光通风+适合全年龄段             兰花新村 31.309076   \n",
       "2941  107102593124           飞虹路1047弄 2室1厅 426万         飞虹路1047弄 31.273769   \n",
       "2942  107102603744               湖畔天下 3室2厅 500万             湖畔天下 31.318253   \n",
       "2943  107101509095           业主精装一年，全明户型，近河边位置好           丰庄十四街坊 31.254349   \n",
       "\n",
       "           小区经度  邻近地铁站  所属街道 所属区域         总价  地铁线路  ...  配备电梯        挂牌时间  \\\n",
       "0    121.552919  世纪公园站    花木   浦东 450.000000     2  ...     无  2020-04-05   \n",
       "1    121.592517   巨峰路站    金桥   浦东 540.000000     6  ...     无  2020-05-23   \n",
       "2    121.541312   暂无信息  杨思前滩   浦东 375.000000  暂无信息  ...     有  2020-03-15   \n",
       "3    121.427846   暂无信息    武宁   普陀 217.000000  暂无信息  ...     有  2020-04-22   \n",
       "4    121.457209   暂无信息   植物园   徐汇 370.000000  暂无信息  ...     有  2020-03-14   \n",
       "...         ...    ...   ...  ...        ...   ...  ...   ...         ...   \n",
       "2939 121.445492   中潭路站  甘泉宜川   普陀 203.000000     3  ...     无  2020-05-14   \n",
       "2940 121.534811   翔殷路站  黄兴公园   杨浦 312.000000     8  ...     无  2020-05-16   \n",
       "2941 121.521762  鞍山新村站  周家嘴路   杨浦 426.000000     8  ...     有  2020-05-28   \n",
       "2942 121.311673   暂无信息    南翔   嘉定 500.000000  暂无信息  ...     有  2020-05-30   \n",
       "2943 121.361900    丰庄站    丰庄   嘉定 220.000000    13  ...     无  2019-07-07   \n",
       "\n",
       "      交易权属        上次交易  房屋用途  房屋年限  产权所属  \\\n",
       "0      商品房  2010-07-13  普通住宅   满五年    共有   \n",
       "1      商品房        暂无数据  普通住宅  暂无数据    共有   \n",
       "2      商品房  2020-03-15  普通住宅  未满两年    共有   \n",
       "3      商品房  2012-04-12  普通住宅   满五年   非共有   \n",
       "4      商品房        暂无数据  普通住宅  暂无数据    共有   \n",
       "...    ...         ...   ...   ...   ...   \n",
       "2939   商品房        暂无数据  普通住宅  暂无数据   非共有   \n",
       "2940   商品房        暂无数据  普通住宅  暂无数据   非共有   \n",
       "2941   商品房        暂无数据  普通住宅  暂无数据  暂无数据   \n",
       "2942   商品房        暂无数据  普通住宅  暂无数据   非共有   \n",
       "2943   商品房  2010-05-28  普通住宅  未满两年    共有   \n",
       "\n",
       "                                                    url  别墅类型 抵押信息  \n",
       "0     https://sh.lianjia.com/ershoufang/107102345339...   NaN  NaN  \n",
       "1     https://sh.lianjia.com/ershoufang/107102573875...   NaN  NaN  \n",
       "2     https://sh.lianjia.com/ershoufang/107102253648...   NaN  NaN  \n",
       "3     https://sh.lianjia.com/ershoufang/107102425179...   NaN  NaN  \n",
       "4     https://sh.lianjia.com/ershoufang/107102249065...   NaN  NaN  \n",
       "...                                                 ...   ...  ...  \n",
       "2939  https://sh.lianjia.com/ershoufang/107102527724...   NaN  NaN  \n",
       "2940  https://sh.lianjia.com/ershoufang/107102538856...   NaN  NaN  \n",
       "2941  https://sh.lianjia.com/ershoufang/107102593124...   NaN  NaN  \n",
       "2942  https://sh.lianjia.com/ershoufang/107102603744...   NaN  NaN  \n",
       "2943  https://sh.lianjia.com/ershoufang/107101509095...   NaN  NaN  \n",
       "\n",
       "[2944 rows x 37 columns]"
      ]
     },
     "execution_count": 5,
     "metadata": {},
     "output_type": "execute_result"
    }
   ],
   "source": [
    "data.drop_duplicates(subset=None, keep='first', inplace=False)"
   ]
  },
  {
   "cell_type": "code",
   "execution_count": 6,
   "metadata": {},
   "outputs": [
    {
     "name": "stdout",
     "output_type": "stream",
     "text": [
      "<class 'pandas.core.frame.DataFrame'>\n",
      "RangeIndex: 2944 entries, 0 to 2943\n",
      "Data columns (total 37 columns):\n",
      "链家编号     2944 non-null int64\n",
      "标题       2944 non-null object\n",
      "小区名称     2944 non-null object\n",
      "小区纬度     2944 non-null float64\n",
      "小区经度     2944 non-null float64\n",
      "邻近地铁站    2944 non-null object\n",
      "所属街道     2944 non-null object\n",
      "所属区域     2944 non-null object\n",
      "总价       2944 non-null float64\n",
      "地铁线路     2944 non-null object\n",
      "每平方售价    2944 non-null int64\n",
      "建造时间     2944 non-null object\n",
      "室数       2944 non-null int64\n",
      "厅数       2944 non-null int64\n",
      "厨数       2944 non-null int64\n",
      "卫数       2944 non-null int64\n",
      "所在楼层     2944 non-null object\n",
      "楼层总数     2944 non-null int64\n",
      "建筑面积     2944 non-null float64\n",
      "户型结构     2936 non-null object\n",
      "套内面积     2944 non-null object\n",
      "建筑类型     2936 non-null object\n",
      "房屋朝向     2944 non-null object\n",
      "建筑结构     2944 non-null object\n",
      "装修情况     2944 non-null object\n",
      "梯数       2936 non-null object\n",
      "户数       2936 non-null object\n",
      "配备电梯     2936 non-null object\n",
      "挂牌时间     2944 non-null object\n",
      "交易权属     2944 non-null object\n",
      "上次交易     2944 non-null object\n",
      "房屋用途     2944 non-null object\n",
      "房屋年限     2944 non-null object\n",
      "产权所属     2944 non-null object\n",
      "url      2944 non-null object\n",
      "别墅类型     8 non-null object\n",
      "抵押信息     8 non-null object\n",
      "dtypes: float64(4), int64(7), object(26)\n",
      "memory usage: 552.1+ KB\n"
     ]
    }
   ],
   "source": [
    "data.info()"
   ]
  },
  {
   "cell_type": "code",
   "execution_count": 7,
   "metadata": {},
   "outputs": [
    {
     "data": {
      "text/plain": [
       "(2944, 37)"
      ]
     },
     "execution_count": 7,
     "metadata": {},
     "output_type": "execute_result"
    }
   ],
   "source": [
    "data.shape"
   ]
  },
  {
   "cell_type": "code",
   "execution_count": 8,
   "metadata": {},
   "outputs": [],
   "source": [
    "# 查看缺失值\n",
    "def find_missing(data):\n",
    "    missing_count = data.isnull().sum()\n",
    "    missing_count = missing_count[missing_count > 0].sort_values(ascending=False)\n",
    "    missing_rate = missing_count / len(data)\n",
    "    if data.isnull().sum().any() == False:\n",
    "        print(\"无缺失值\")\n",
    "    else:\n",
    "        missing = pd.DataFrame()\n",
    "        missing['missing_count'] = missing_count\n",
    "        missing['missing_rate'] = missing_rate\n",
    "        return missing"
   ]
  },
  {
   "cell_type": "code",
   "execution_count": 9,
   "metadata": {},
   "outputs": [
    {
     "data": {
      "text/html": [
       "<div>\n",
       "<style scoped>\n",
       "    .dataframe tbody tr th:only-of-type {\n",
       "        vertical-align: middle;\n",
       "    }\n",
       "\n",
       "    .dataframe tbody tr th {\n",
       "        vertical-align: top;\n",
       "    }\n",
       "\n",
       "    .dataframe thead th {\n",
       "        text-align: right;\n",
       "    }\n",
       "</style>\n",
       "<table border=\"1\" class=\"dataframe\">\n",
       "  <thead>\n",
       "    <tr style=\"text-align: right;\">\n",
       "      <th></th>\n",
       "      <th>missing_count</th>\n",
       "      <th>missing_rate</th>\n",
       "    </tr>\n",
       "  </thead>\n",
       "  <tbody>\n",
       "    <tr>\n",
       "      <th>抵押信息</th>\n",
       "      <td>2936</td>\n",
       "      <td>0.997283</td>\n",
       "    </tr>\n",
       "    <tr>\n",
       "      <th>别墅类型</th>\n",
       "      <td>2936</td>\n",
       "      <td>0.997283</td>\n",
       "    </tr>\n",
       "    <tr>\n",
       "      <th>配备电梯</th>\n",
       "      <td>8</td>\n",
       "      <td>0.002717</td>\n",
       "    </tr>\n",
       "    <tr>\n",
       "      <th>户数</th>\n",
       "      <td>8</td>\n",
       "      <td>0.002717</td>\n",
       "    </tr>\n",
       "    <tr>\n",
       "      <th>梯数</th>\n",
       "      <td>8</td>\n",
       "      <td>0.002717</td>\n",
       "    </tr>\n",
       "    <tr>\n",
       "      <th>建筑类型</th>\n",
       "      <td>8</td>\n",
       "      <td>0.002717</td>\n",
       "    </tr>\n",
       "    <tr>\n",
       "      <th>户型结构</th>\n",
       "      <td>8</td>\n",
       "      <td>0.002717</td>\n",
       "    </tr>\n",
       "  </tbody>\n",
       "</table>\n",
       "</div>"
      ],
      "text/plain": [
       "      missing_count  missing_rate\n",
       "抵押信息           2936      0.997283\n",
       "别墅类型           2936      0.997283\n",
       "配备电梯              8      0.002717\n",
       "户数                8      0.002717\n",
       "梯数                8      0.002717\n",
       "建筑类型              8      0.002717\n",
       "户型结构              8      0.002717"
      ]
     },
     "execution_count": 9,
     "metadata": {},
     "output_type": "execute_result"
    }
   ],
   "source": [
    "find_missing(data)"
   ]
  },
  {
   "cell_type": "code",
   "execution_count": 10,
   "metadata": {},
   "outputs": [],
   "source": [
    "#特征抵押信息以及别墅类型缺失值太多，可以删除；对于是其余特征有缺失值的记录，可以看出，如果户型是别墅，那么户数、梯数等应该没有，在缺失\n",
    "#数据极少的情况下删除有缺失值的记录"
   ]
  },
  {
   "cell_type": "code",
   "execution_count": 11,
   "metadata": {},
   "outputs": [],
   "source": [
    "del_index = data[data.户数.isnull()==True].index#找出别墅类型房子的八条记录"
   ]
  },
  {
   "cell_type": "code",
   "execution_count": 12,
   "metadata": {},
   "outputs": [
    {
     "data": {
      "text/plain": [
       "[294, 317, 409, 746, 1245, 1787, 1970, 2291]"
      ]
     },
     "execution_count": 12,
     "metadata": {},
     "output_type": "execute_result"
    }
   ],
   "source": [
    "list(del_index)"
   ]
  },
  {
   "cell_type": "code",
   "execution_count": 13,
   "metadata": {},
   "outputs": [],
   "source": [
    "data.drop(list(del_index), inplace=True) "
   ]
  },
  {
   "cell_type": "code",
   "execution_count": 14,
   "metadata": {},
   "outputs": [
    {
     "data": {
      "text/html": [
       "<div>\n",
       "<style scoped>\n",
       "    .dataframe tbody tr th:only-of-type {\n",
       "        vertical-align: middle;\n",
       "    }\n",
       "\n",
       "    .dataframe tbody tr th {\n",
       "        vertical-align: top;\n",
       "    }\n",
       "\n",
       "    .dataframe thead th {\n",
       "        text-align: right;\n",
       "    }\n",
       "</style>\n",
       "<table border=\"1\" class=\"dataframe\">\n",
       "  <thead>\n",
       "    <tr style=\"text-align: right;\">\n",
       "      <th></th>\n",
       "      <th>missing_count</th>\n",
       "      <th>missing_rate</th>\n",
       "    </tr>\n",
       "  </thead>\n",
       "  <tbody>\n",
       "    <tr>\n",
       "      <th>抵押信息</th>\n",
       "      <td>2936</td>\n",
       "      <td>1.000000</td>\n",
       "    </tr>\n",
       "    <tr>\n",
       "      <th>别墅类型</th>\n",
       "      <td>2936</td>\n",
       "      <td>1.000000</td>\n",
       "    </tr>\n",
       "  </tbody>\n",
       "</table>\n",
       "</div>"
      ],
      "text/plain": [
       "      missing_count  missing_rate\n",
       "抵押信息           2936      1.000000\n",
       "别墅类型           2936      1.000000"
      ]
     },
     "execution_count": 14,
     "metadata": {},
     "output_type": "execute_result"
    }
   ],
   "source": [
    "find_missing(data)"
   ]
  },
  {
   "cell_type": "code",
   "execution_count": 15,
   "metadata": {},
   "outputs": [
    {
     "data": {
      "text/plain": [
       "(2936, 37)"
      ]
     },
     "execution_count": 15,
     "metadata": {},
     "output_type": "execute_result"
    }
   ],
   "source": [
    "data.shape"
   ]
  },
  {
   "cell_type": "code",
   "execution_count": 16,
   "metadata": {},
   "outputs": [],
   "source": [
    " data = data.drop(['抵押信息', '别墅类型'], axis=1)\n",
    "#这两类特征缺失值太多，删除处理"
   ]
  },
  {
   "cell_type": "code",
   "execution_count": 17,
   "metadata": {},
   "outputs": [
    {
     "name": "stdout",
     "output_type": "stream",
     "text": [
      "无缺失值\n"
     ]
    }
   ],
   "source": [
    "find_missing(data)"
   ]
  },
  {
   "cell_type": "code",
   "execution_count": 18,
   "metadata": {},
   "outputs": [],
   "source": [
    "data =data.reset_index(drop=True)#删除信息后重新设置索引"
   ]
  },
  {
   "cell_type": "code",
   "execution_count": 19,
   "metadata": {},
   "outputs": [],
   "source": [
    " data = data.drop(['链家编号','小区名称','url'], axis=1)\n",
    "#链家编号：如果以房子总价作为预测目标，这里依据常识对特征进行初步主观的判断和分析，每个房子信息的身份证对房价不会产生影响\n",
    "#小区名称：小区名称应该对房价没有什么影响，隐含的地理位置已经在爬虫数据获取阶段转换为经纬度地理信息\n",
    "#url:记录爬取网页地址，对总价不产生影响"
   ]
  },
  {
   "cell_type": "code",
   "execution_count": 20,
   "metadata": {},
   "outputs": [
    {
     "data": {
      "text/plain": [
       "(2936, 32)"
      ]
     },
     "execution_count": 20,
     "metadata": {},
     "output_type": "execute_result"
    }
   ],
   "source": [
    "data.shape"
   ]
  },
  {
   "cell_type": "code",
   "execution_count": 21,
   "metadata": {},
   "outputs": [
    {
     "data": {
      "text/plain": [
       "Index(['标题', '小区纬度', '小区经度', '邻近地铁站', '所属街道', '所属区域', '总价', '地铁线路', '每平方售价',\n",
       "       '建造时间', '室数', '厅数', '厨数', '卫数', '所在楼层', '楼层总数', '建筑面积', '户型结构', '套内面积',\n",
       "       '建筑类型', '房屋朝向', '建筑结构', '装修情况', '梯数', '户数', '配备电梯', '挂牌时间', '交易权属',\n",
       "       '上次交易', '房屋用途', '房屋年限', '产权所属'],\n",
       "      dtype='object')"
      ]
     },
     "execution_count": 21,
     "metadata": {},
     "output_type": "execute_result"
    }
   ],
   "source": [
    "data.columns"
   ]
  },
  {
   "cell_type": "code",
   "execution_count": 22,
   "metadata": {},
   "outputs": [],
   "source": [
    "#############################特征分析###########################"
   ]
  },
  {
   "cell_type": "code",
   "execution_count": 23,
   "metadata": {},
   "outputs": [],
   "source": [
    "data['标题长度'] = data['标题'].map(len)\n",
    "data = data.drop('标题', axis=1)\n",
    "#标题：内容包含房屋信息和卖方的主观描述，每一条都不同，不是类别变量，也不是数字变量，无法衡量该特征对房价预测的影响，但是有可能描述的内容\n",
    "#越多，越能吸引买家点击购买，特征工程，将该特征变换成标题的字符长度"
   ]
  },
  {
   "cell_type": "code",
   "execution_count": 24,
   "metadata": {},
   "outputs": [
    {
     "data": {
      "text/plain": [
       "25    437\n",
       "24    433\n",
       "23    318\n",
       "22    272\n",
       "26    222\n",
       "21    195\n",
       "20    175\n",
       "19    168\n",
       "27    148\n",
       "18    124\n",
       "17    104\n",
       "16     90\n",
       "28     67\n",
       "15     66\n",
       "14     63\n",
       "29     24\n",
       "13     15\n",
       "30     13\n",
       "31      2\n",
       "Name: 标题长度, dtype: int64"
      ]
     },
     "execution_count": 24,
     "metadata": {},
     "output_type": "execute_result"
    }
   ],
   "source": [
    "data['标题长度'].value_counts()"
   ]
  },
  {
   "cell_type": "code",
   "execution_count": 25,
   "metadata": {},
   "outputs": [
    {
     "data": {
      "text/plain": [
       "count   2936.000000\n",
       "mean     121.157578\n",
       "std        5.927911\n",
       "min        0.000000\n",
       "25%      121.390058\n",
       "50%      121.450961\n",
       "75%      121.525583\n",
       "max      121.923503\n",
       "Name: 小区经度, dtype: float64"
      ]
     },
     "execution_count": 25,
     "metadata": {},
     "output_type": "execute_result"
    }
   ],
   "source": [
    "data['小区经度'].describe()"
   ]
  },
  {
   "cell_type": "code",
   "execution_count": 26,
   "metadata": {},
   "outputs": [],
   "source": [
    "#删除经纬度为零的记录\n",
    "del_l = data[data.小区经度==0].index\n",
    "del_a = data[data.小区纬度==0].index\n",
    "data.drop(list(del_a), inplace=True) \n",
    "data =data.reset_index(drop=True)"
   ]
  },
  {
   "cell_type": "code",
   "execution_count": 27,
   "metadata": {},
   "outputs": [
    {
     "data": {
      "text/plain": [
       "(2929, 32)"
      ]
     },
     "execution_count": 27,
     "metadata": {},
     "output_type": "execute_result"
    }
   ],
   "source": [
    "data.shape"
   ]
  },
  {
   "cell_type": "code",
   "execution_count": 28,
   "metadata": {},
   "outputs": [
    {
     "data": {
      "text/plain": [
       "0       世纪公园站\n",
       "1        巨峰路站\n",
       "2        暂无信息\n",
       "3        暂无信息\n",
       "4        暂无信息\n",
       "        ...  \n",
       "2924     中潭路站\n",
       "2925     翔殷路站\n",
       "2926    鞍山新村站\n",
       "2927     暂无信息\n",
       "2928      丰庄站\n",
       "Name: 邻近地铁站, Length: 2929, dtype: object"
      ]
     },
     "execution_count": 28,
     "metadata": {},
     "output_type": "execute_result"
    }
   ],
   "source": [
    "data.邻近地铁站\n",
    "#邻近地铁站：这部分信息有接近一半缺失，缺失的默认为无，其他默认是有邻近地铁站"
   ]
  },
  {
   "cell_type": "code",
   "execution_count": 29,
   "metadata": {},
   "outputs": [
    {
     "data": {
      "text/plain": [
       "0       世纪公园站\n",
       "1        巨峰路站\n",
       "2        暂无信息\n",
       "3        暂无信息\n",
       "4        暂无信息\n",
       "        ...  \n",
       "2924     中潭路站\n",
       "2925     翔殷路站\n",
       "2926    鞍山新村站\n",
       "2927     暂无信息\n",
       "2928      丰庄站\n",
       "Name: 邻近地铁站, Length: 2929, dtype: object"
      ]
     },
     "execution_count": 29,
     "metadata": {},
     "output_type": "execute_result"
    }
   ],
   "source": [
    "data.邻近地铁站"
   ]
  },
  {
   "cell_type": "code",
   "execution_count": 30,
   "metadata": {},
   "outputs": [
    {
     "data": {
      "text/plain": [
       "浦东    736\n",
       "闵行    403\n",
       "宝山    293\n",
       "徐汇    211\n",
       "普陀    201\n",
       "松江    170\n",
       "静安    169\n",
       "杨浦    165\n",
       "嘉定    156\n",
       "长宁    124\n",
       "黄浦     91\n",
       "虹口     74\n",
       "青浦     72\n",
       "奉贤     55\n",
       "金山      9\n",
       "Name: 所属区域, dtype: int64"
      ]
     },
     "execution_count": 30,
     "metadata": {},
     "output_type": "execute_result"
    }
   ],
   "source": [
    "data.所属区域.value_counts()#编码"
   ]
  },
  {
   "cell_type": "code",
   "execution_count": 31,
   "metadata": {},
   "outputs": [
    {
     "data": {
      "text/plain": [
       "北蔡      74\n",
       "莘庄      63\n",
       "世博      53\n",
       "上大      52\n",
       "古美      50\n",
       "        ..\n",
       "海湾       1\n",
       "金山       1\n",
       "人民广场     1\n",
       "佘山       1\n",
       "合庆       1\n",
       "Name: 所属街道, Length: 164, dtype: int64"
      ]
     },
     "execution_count": 31,
     "metadata": {},
     "output_type": "execute_result"
    }
   ],
   "source": [
    "data.所属街道.value_counts()"
   ]
  },
  {
   "cell_type": "code",
   "execution_count": 32,
   "metadata": {},
   "outputs": [
    {
     "data": {
      "text/plain": [
       "暂无信息    1386\n",
       "9        167\n",
       "2        155\n",
       "1        154\n",
       "7        151\n",
       "8        139\n",
       "6        137\n",
       "3        120\n",
       "11       113\n",
       "4        103\n",
       "13        83\n",
       "12        82\n",
       "10        72\n",
       "5         45\n",
       "17        17\n",
       "16         5\n",
       "Name: 地铁线路, dtype: int64"
      ]
     },
     "execution_count": 32,
     "metadata": {},
     "output_type": "execute_result"
    }
   ],
   "source": [
    "data.地铁线路.value_counts()\n",
    "#地铁线路：也是包含地理位置信息的，缺失值也将近一半，后面做相关性分析时酌情处理"
   ]
  },
  {
   "cell_type": "code",
   "execution_count": 33,
   "metadata": {},
   "outputs": [
    {
     "data": {
      "text/plain": [
       "count     2929.000000\n",
       "mean     56609.056333\n",
       "std      22138.996993\n",
       "min      14199.000000\n",
       "25%      41005.000000\n",
       "50%      53157.000000\n",
       "75%      68204.000000\n",
       "max     201466.000000\n",
       "Name: 每平方售价, dtype: float64"
      ]
     },
     "execution_count": 33,
     "metadata": {},
     "output_type": "execute_result"
    }
   ],
   "source": [
    "data.每平方售价.describe()#信息完整，建筑面积×每平方售价 = 总价，每平方售价和总价线性相关，删除该特征"
   ]
  },
  {
   "cell_type": "code",
   "execution_count": 34,
   "metadata": {},
   "outputs": [
    {
     "data": {
      "text/plain": [
       "1994    184\n",
       "2005    164\n",
       "1995    163\n",
       "2008    136\n",
       "2006    135\n",
       "1996    128\n",
       "未知      111\n",
       "2004    111\n",
       "1997    111\n",
       "2007    105\n",
       "2011    102\n",
       "2003     98\n",
       "2014     88\n",
       "2012     85\n",
       "1998     83\n",
       "2010     82\n",
       "2009     80\n",
       "1999     76\n",
       "2002     76\n",
       "1993     73\n",
       "2013     67\n",
       "1990     59\n",
       "2001     56\n",
       "2000     52\n",
       "2015     49\n",
       "1989     46\n",
       "1985     43\n",
       "1988     42\n",
       "1992     42\n",
       "1986     39\n",
       "1987     37\n",
       "1984     35\n",
       "1983     34\n",
       "1991     26\n",
       "1982     24\n",
       "2016     20\n",
       "1980     17\n",
       "1981     14\n",
       "1979      6\n",
       "1975      4\n",
       "1978      4\n",
       "2018      2\n",
       "1957      2\n",
       "1977      2\n",
       "1974      2\n",
       "2017      2\n",
       "1959      2\n",
       "1976      2\n",
       "1960      2\n",
       "1965      1\n",
       "1947      1\n",
       "1958      1\n",
       "1956      1\n",
       "1940      1\n",
       "1924      1\n",
       "Name: 建造时间, dtype: int64"
      ]
     },
     "execution_count": 34,
     "metadata": {},
     "output_type": "execute_result"
    }
   ],
   "source": [
    "data.建造时间.value_counts()#建造时间未知信息较少"
   ]
  },
  {
   "cell_type": "code",
   "execution_count": 35,
   "metadata": {},
   "outputs": [],
   "source": [
    "imp = SimpleImputer(missing_values='未知', strategy='most_frequent')"
   ]
  },
  {
   "cell_type": "code",
   "execution_count": 36,
   "metadata": {},
   "outputs": [],
   "source": [
    "data['建造时间'] = imp.fit_transform(data['建造时间'].values.reshape(-1,1))"
   ]
  },
  {
   "cell_type": "code",
   "execution_count": 37,
   "metadata": {},
   "outputs": [
    {
     "data": {
      "text/plain": [
       "count     2929.000000\n",
       "mean     56609.056333\n",
       "std      22138.996993\n",
       "min      14199.000000\n",
       "25%      41005.000000\n",
       "50%      53157.000000\n",
       "75%      68204.000000\n",
       "max     201466.000000\n",
       "Name: 每平方售价, dtype: float64"
      ]
     },
     "execution_count": 37,
     "metadata": {},
     "output_type": "execute_result"
    }
   ],
   "source": [
    "data.每平方售价.describe()"
   ]
  },
  {
   "cell_type": "code",
   "execution_count": 38,
   "metadata": {},
   "outputs": [
    {
     "data": {
      "text/plain": [
       "Series([], Name: 建造时间, dtype: object)"
      ]
     },
     "execution_count": 38,
     "metadata": {},
     "output_type": "execute_result"
    }
   ],
   "source": [
    "data.建造时间[data.建造时间=='未知']#该特征信息完整"
   ]
  },
  {
   "cell_type": "code",
   "execution_count": 39,
   "metadata": {},
   "outputs": [],
   "source": [
    "data['建造时间'] = data['建造时间'].astype(\"int\")"
   ]
  },
  {
   "cell_type": "code",
   "execution_count": 40,
   "metadata": {},
   "outputs": [
    {
     "data": {
      "text/plain": [
       "室数    False\n",
       "厅数    False\n",
       "卫数    False\n",
       "厨数    False\n",
       "dtype: bool"
      ]
     },
     "execution_count": 40,
     "metadata": {},
     "output_type": "execute_result"
    }
   ],
   "source": [
    "data[['室数','厅数','卫数','厨数']].isnull().any()"
   ]
  },
  {
   "cell_type": "code",
   "execution_count": 41,
   "metadata": {},
   "outputs": [
    {
     "data": {
      "text/plain": [
       "2    1590\n",
       "3     644\n",
       "1     616\n",
       "4      68\n",
       "5       9\n",
       "7       1\n",
       "6       1\n",
       "Name: 室数, dtype: int64"
      ]
     },
     "execution_count": 41,
     "metadata": {},
     "output_type": "execute_result"
    }
   ],
   "source": [
    "data['室数'].value_counts()"
   ]
  },
  {
   "cell_type": "code",
   "execution_count": 42,
   "metadata": {},
   "outputs": [
    {
     "data": {
      "text/plain": [
       "1    1506\n",
       "2    1289\n",
       "0     124\n",
       "3      10\n",
       "Name: 厅数, dtype: int64"
      ]
     },
     "execution_count": 42,
     "metadata": {},
     "output_type": "execute_result"
    }
   ],
   "source": [
    "data['厅数'].value_counts()"
   ]
  },
  {
   "cell_type": "code",
   "execution_count": 43,
   "metadata": {},
   "outputs": [
    {
     "data": {
      "text/plain": [
       "1    2457\n",
       "2     430\n",
       "3      33\n",
       "4       7\n",
       "5       1\n",
       "0       1\n",
       "Name: 卫数, dtype: int64"
      ]
     },
     "execution_count": 43,
     "metadata": {},
     "output_type": "execute_result"
    }
   ],
   "source": [
    "data['卫数'].value_counts()"
   ]
  },
  {
   "cell_type": "code",
   "execution_count": 44,
   "metadata": {},
   "outputs": [
    {
     "data": {
      "text/plain": [
       "1    2747\n",
       "0     173\n",
       "2       9\n",
       "Name: 厨数, dtype: int64"
      ]
     },
     "execution_count": 44,
     "metadata": {},
     "output_type": "execute_result"
    }
   ],
   "source": [
    "data['厨数'].value_counts()"
   ]
  },
  {
   "cell_type": "code",
   "execution_count": 45,
   "metadata": {},
   "outputs": [],
   "source": [
    "#由以上可知，室数、厅数、卫数、厨数数据完整"
   ]
  },
  {
   "cell_type": "code",
   "execution_count": 46,
   "metadata": {},
   "outputs": [
    {
     "data": {
      "text/plain": [
       "中楼层    1097\n",
       "高楼层     996\n",
       "低楼层     836\n",
       "Name: 所在楼层, dtype: int64"
      ]
     },
     "execution_count": 46,
     "metadata": {},
     "output_type": "execute_result"
    }
   ],
   "source": [
    "data['所在楼层'].value_counts()#数据完整，特征处理时，可用label_encoder进行分类变量编码"
   ]
  },
  {
   "cell_type": "code",
   "execution_count": 47,
   "metadata": {},
   "outputs": [
    {
     "data": {
      "text/plain": [
       "6     1257\n",
       "18     218\n",
       "14     155\n",
       "11     155\n",
       "5      146\n",
       "7      146\n",
       "17      75\n",
       "24      69\n",
       "12      66\n",
       "16      53\n",
       "15      48\n",
       "13      42\n",
       "8       40\n",
       "9       33\n",
       "21      33\n",
       "20      31\n",
       "26      30\n",
       "10      26\n",
       "4       26\n",
       "28      26\n",
       "27      26\n",
       "25      24\n",
       "29      22\n",
       "32      22\n",
       "33      19\n",
       "31      18\n",
       "34      17\n",
       "30      17\n",
       "23      17\n",
       "22      15\n",
       "19       9\n",
       "37       7\n",
       "38       7\n",
       "35       7\n",
       "36       5\n",
       "39       4\n",
       "3        4\n",
       "53       3\n",
       "99       1\n",
       "40       1\n",
       "44       1\n",
       "56       1\n",
       "60       1\n",
       "61       1\n",
       "41       1\n",
       "43       1\n",
       "45       1\n",
       "59       1\n",
       "2        1\n",
       "Name: 楼层总数, dtype: int64"
      ]
     },
     "execution_count": 47,
     "metadata": {},
     "output_type": "execute_result"
    }
   ],
   "source": [
    "data['楼层总数'].value_counts()"
   ]
  },
  {
   "cell_type": "code",
   "execution_count": 48,
   "metadata": {},
   "outputs": [
    {
     "data": {
      "text/plain": [
       "count   2929.000000\n",
       "mean      81.573213\n",
       "std       35.584849\n",
       "min       17.050000\n",
       "25%       56.470000\n",
       "50%       76.180000\n",
       "75%       95.650000\n",
       "max      353.580000\n",
       "Name: 建筑面积, dtype: float64"
      ]
     },
     "execution_count": 48,
     "metadata": {},
     "output_type": "execute_result"
    }
   ],
   "source": [
    "data['建筑面积'].describe()"
   ]
  },
  {
   "cell_type": "code",
   "execution_count": 49,
   "metadata": {},
   "outputs": [
    {
     "data": {
      "text/plain": [
       "平层      2833\n",
       "复式        61\n",
       "错层        20\n",
       "暂无数据      12\n",
       "跃层         3\n",
       "Name: 户型结构, dtype: int64"
      ]
     },
     "execution_count": 49,
     "metadata": {},
     "output_type": "execute_result"
    }
   ],
   "source": [
    "data['户型结构'].value_counts()#label_encoder分类编码"
   ]
  },
  {
   "cell_type": "code",
   "execution_count": 50,
   "metadata": {},
   "outputs": [],
   "source": [
    "imp = SimpleImputer(missing_values='暂无数据', strategy='most_frequent')\n",
    "data['户型结构'] = imp.fit_transform(data['户型结构'].values.reshape(-1,1))"
   ]
  },
  {
   "cell_type": "code",
   "execution_count": 51,
   "metadata": {},
   "outputs": [
    {
     "data": {
      "text/plain": [
       "暂无数据      2722\n",
       "50㎡          3\n",
       "68㎡          3\n",
       "80㎡          3\n",
       "108㎡         3\n",
       "          ... \n",
       "85.3㎡        1\n",
       "42.77㎡       1\n",
       "43㎡          1\n",
       "72㎡          1\n",
       "62.48㎡       1\n",
       "Name: 套内面积, Length: 188, dtype: int64"
      ]
     },
     "execution_count": 51,
     "metadata": {},
     "output_type": "execute_result"
    }
   ],
   "source": [
    "data['套内面积'].value_counts()#套内面积，缺失数据太多，这里将该特征删除"
   ]
  },
  {
   "cell_type": "code",
   "execution_count": 52,
   "metadata": {},
   "outputs": [],
   "source": [
    "data = data.drop('套内面积',axis = 1)"
   ]
  },
  {
   "cell_type": "code",
   "execution_count": 53,
   "metadata": {},
   "outputs": [
    {
     "data": {
      "text/plain": [
       "Index(['小区纬度', '小区经度', '邻近地铁站', '所属街道', '所属区域', '总价', '地铁线路', '每平方售价', '建造时间',\n",
       "       '室数', '厅数', '厨数', '卫数', '所在楼层', '楼层总数', '建筑面积', '户型结构', '建筑类型', '房屋朝向',\n",
       "       '建筑结构', '装修情况', '梯数', '户数', '配备电梯', '挂牌时间', '交易权属', '上次交易', '房屋用途',\n",
       "       '房屋年限', '产权所属', '标题长度'],\n",
       "      dtype='object')"
      ]
     },
     "execution_count": 53,
     "metadata": {},
     "output_type": "execute_result"
    }
   ],
   "source": [
    "data.columns"
   ]
  },
  {
   "cell_type": "code",
   "execution_count": 54,
   "metadata": {},
   "outputs": [
    {
     "data": {
      "text/plain": [
       "平层    2845\n",
       "复式      61\n",
       "错层      20\n",
       "跃层       3\n",
       "Name: 户型结构, dtype: int64"
      ]
     },
     "execution_count": 54,
     "metadata": {},
     "output_type": "execute_result"
    }
   ],
   "source": [
    "data['户型结构'].value_counts()#label_encoder"
   ]
  },
  {
   "cell_type": "code",
   "execution_count": 55,
   "metadata": {},
   "outputs": [
    {
     "data": {
      "text/plain": [
       "板楼      2697\n",
       "塔楼       203\n",
       "板塔结合      21\n",
       "暂无数据       8\n",
       "Name: 建筑类型, dtype: int64"
      ]
     },
     "execution_count": 55,
     "metadata": {},
     "output_type": "execute_result"
    }
   ],
   "source": [
    "data['建筑类型'].value_counts()"
   ]
  },
  {
   "cell_type": "code",
   "execution_count": 56,
   "metadata": {},
   "outputs": [],
   "source": [
    "imp = SimpleImputer(missing_values='暂无数据', strategy='most_frequent')\n",
    "data['建筑类型'] = imp.fit_transform(data['建筑类型'].values.reshape(-1,1))"
   ]
  },
  {
   "cell_type": "code",
   "execution_count": 57,
   "metadata": {},
   "outputs": [
    {
     "data": {
      "text/plain": [
       "南            2101\n",
       "南 北           615\n",
       "西南             40\n",
       "东南             39\n",
       "东              18\n",
       "北 南            17\n",
       "西              15\n",
       "北              12\n",
       "西北             10\n",
       "南 西             9\n",
       "东 南             8\n",
       "东南 南            6\n",
       "南 西南            5\n",
       "西 北             3\n",
       "东 西             3\n",
       "东 北             2\n",
       "东 南 北           2\n",
       "东 东南            2\n",
       "东北              2\n",
       "南 东 北           2\n",
       "南 西 北           2\n",
       "南 北 东           1\n",
       "暂无数据            1\n",
       "东 南 西           1\n",
       "西南 南            1\n",
       "南 东南            1\n",
       "西南 东北           1\n",
       "西 北 南           1\n",
       "西南 西北           1\n",
       "东 东北            1\n",
       "南 西北            1\n",
       "西 东             1\n",
       "南 西南 西北 北       1\n",
       "南 东             1\n",
       "东南 南 西南         1\n",
       "西南 西            1\n",
       "北 西北            1\n",
       "Name: 房屋朝向, dtype: int64"
      ]
     },
     "execution_count": 57,
     "metadata": {},
     "output_type": "execute_result"
    }
   ],
   "source": [
    "data['房屋朝向'].value_counts()#房子大都朝南，南北朝向和南朝向应该是表达一个意思"
   ]
  },
  {
   "cell_type": "code",
   "execution_count": 58,
   "metadata": {},
   "outputs": [],
   "source": [
    "#住宅朝向按照优劣顺序为正南——东南——东——西南——西——北,朝南和朝北南方向一致\n",
    "#一共2733条，占比为93.33,其余记录占比较少，而且大都带有南，记录较为混乱，综合考虑删除该特征"
   ]
  },
  {
   "cell_type": "code",
   "execution_count": 59,
   "metadata": {},
   "outputs": [
    {
     "name": "stdout",
     "output_type": "stream",
     "text": [
      "0.9330829634687606\n"
     ]
    }
   ],
   "source": [
    "print((2101+632)/data.shape[0])"
   ]
  },
  {
   "cell_type": "code",
   "execution_count": 60,
   "metadata": {},
   "outputs": [
    {
     "data": {
      "text/plain": [
       "钢混结构    1837\n",
       "砖混结构    1076\n",
       "混合结构       8\n",
       "未知结构       5\n",
       "框架结构       3\n",
       "Name: 建筑结构, dtype: int64"
      ]
     },
     "execution_count": 60,
     "metadata": {},
     "output_type": "execute_result"
    }
   ],
   "source": [
    "data['建筑结构'].value_counts()"
   ]
  },
  {
   "cell_type": "code",
   "execution_count": 61,
   "metadata": {},
   "outputs": [
    {
     "data": {
      "text/plain": [
       "精装    1681\n",
       "简装     977\n",
       "毛坯     213\n",
       "其他      58\n",
       "Name: 装修情况, dtype: int64"
      ]
     },
     "execution_count": 61,
     "metadata": {},
     "output_type": "execute_result"
    }
   ],
   "source": [
    "data['装修情况'].value_counts()"
   ]
  },
  {
   "cell_type": "code",
   "execution_count": 62,
   "metadata": {},
   "outputs": [
    {
     "data": {
      "text/plain": [
       "一     2141\n",
       "两      701\n",
       "三       53\n",
       "四       20\n",
       "二十       3\n",
       "五        3\n",
       "六        2\n",
       "十        2\n",
       "八        1\n",
       "十八       1\n",
       "十七       1\n",
       "十二       1\n",
       "Name: 梯数, dtype: int64"
      ]
     },
     "execution_count": 62,
     "metadata": {},
     "output_type": "execute_result"
    }
   ],
   "source": [
    "data['梯数'].value_counts()"
   ]
  },
  {
   "cell_type": "code",
   "execution_count": 63,
   "metadata": {},
   "outputs": [],
   "source": [
    "ti_dict = {'一':1,'两':2,'三':3,'四':4,'五':5,'二十':20,'十':10,'六':6,'十七':17,'十二':12,'十八':18,'八':8}"
   ]
  },
  {
   "cell_type": "code",
   "execution_count": 64,
   "metadata": {},
   "outputs": [],
   "source": [
    "for index,t in enumerate(data['梯数']):\n",
    "    for key in list(ti_dict.keys()):\n",
    "        if t == key:\n",
    "            data.loc[index,'梯数'] = ti_dict[key]"
   ]
  },
  {
   "cell_type": "code",
   "execution_count": 65,
   "metadata": {},
   "outputs": [
    {
     "data": {
      "text/plain": [
       "1     2141\n",
       "2      701\n",
       "3       53\n",
       "4       20\n",
       "5        3\n",
       "20       3\n",
       "10       2\n",
       "6        2\n",
       "17       1\n",
       "18       1\n",
       "12       1\n",
       "8        1\n",
       "Name: 梯数, dtype: int64"
      ]
     },
     "execution_count": 65,
     "metadata": {},
     "output_type": "execute_result"
    }
   ],
   "source": [
    "data['梯数'].value_counts()"
   ]
  },
  {
   "cell_type": "code",
   "execution_count": 66,
   "metadata": {},
   "outputs": [],
   "source": [
    "data['梯数'] = data['梯数'].astype(\"int\")"
   ]
  },
  {
   "cell_type": "code",
   "execution_count": 67,
   "metadata": {},
   "outputs": [
    {
     "data": {
      "text/plain": [
       "两    1139\n",
       "四     777\n",
       "三     549\n",
       "六     122\n",
       "五     119\n",
       "八     105\n",
       "十      59\n",
       "七      30\n",
       "九      15\n",
       "一       9\n",
       "二       5\n",
       "Name: 户数, dtype: int64"
      ]
     },
     "execution_count": 67,
     "metadata": {},
     "output_type": "execute_result"
    }
   ],
   "source": [
    "data['户数'].value_counts()"
   ]
  },
  {
   "cell_type": "code",
   "execution_count": 68,
   "metadata": {},
   "outputs": [],
   "source": [
    "hu_dict = {'一':1,'两':2,'二':2,'三':3,'四':4,'五':5,'六':6,'七':7,'八':8,'九':9,'十':10}"
   ]
  },
  {
   "cell_type": "code",
   "execution_count": 69,
   "metadata": {},
   "outputs": [
    {
     "data": {
      "text/plain": [
       "dict_keys(['一', '两', '二', '三', '四', '五', '六', '七', '八', '九', '十'])"
      ]
     },
     "execution_count": 69,
     "metadata": {},
     "output_type": "execute_result"
    }
   ],
   "source": [
    "hu_dict.keys()"
   ]
  },
  {
   "cell_type": "code",
   "execution_count": 70,
   "metadata": {},
   "outputs": [],
   "source": [
    "for index,t in enumerate(data['户数']):\n",
    "    for key in list(hu_dict.keys()):\n",
    "        if t == key:\n",
    "            data.loc[index,'户数'] = hu_dict[key]"
   ]
  },
  {
   "cell_type": "code",
   "execution_count": 71,
   "metadata": {},
   "outputs": [
    {
     "data": {
      "text/plain": [
       "2     1144\n",
       "4      777\n",
       "3      549\n",
       "6      122\n",
       "5      119\n",
       "8      105\n",
       "10      59\n",
       "7       30\n",
       "9       15\n",
       "1        9\n",
       "Name: 户数, dtype: int64"
      ]
     },
     "execution_count": 71,
     "metadata": {},
     "output_type": "execute_result"
    }
   ],
   "source": [
    "data['户数'].value_counts()\n"
   ]
  },
  {
   "cell_type": "code",
   "execution_count": 72,
   "metadata": {},
   "outputs": [],
   "source": [
    "data['户数'] = data['户数'].astype(\"int\")"
   ]
  },
  {
   "cell_type": "code",
   "execution_count": 73,
   "metadata": {},
   "outputs": [
    {
     "data": {
      "text/plain": [
       "无       1503\n",
       "有       1392\n",
       "暂无数据      34\n",
       "Name: 配备电梯, dtype: int64"
      ]
     },
     "execution_count": 73,
     "metadata": {},
     "output_type": "execute_result"
    }
   ],
   "source": [
    "data['配备电梯'].value_counts()"
   ]
  },
  {
   "cell_type": "code",
   "execution_count": 74,
   "metadata": {},
   "outputs": [
    {
     "data": {
      "text/plain": [
       "2020-05-24    72\n",
       "2020-05-23    66\n",
       "2020-05-16    57\n",
       "2020-05-27    55\n",
       "2020-05-17    55\n",
       "              ..\n",
       "2018-03-07     1\n",
       "2018-01-25     1\n",
       "2018-06-12     1\n",
       "2019-02-20     1\n",
       "2019-12-12     1\n",
       "Name: 挂牌时间, Length: 424, dtype: int64"
      ]
     },
     "execution_count": 74,
     "metadata": {},
     "output_type": "execute_result"
    }
   ],
   "source": [
    "data['挂牌时间'].value_counts()#挂牌时间为房屋对外出售的时间，对当前房价没有影响，也可能挂牌时间久，\n",
    "#反映该房子较难出售，进而房主会调低房价，但这是结果，不是因素，因此将该特征删除"
   ]
  },
  {
   "cell_type": "code",
   "execution_count": 75,
   "metadata": {},
   "outputs": [
    {
     "data": {
      "text/plain": [
       "商品房      2674\n",
       "动迁安置房     233\n",
       "售后公房       22\n",
       "Name: 交易权属, dtype: int64"
      ]
     },
     "execution_count": 75,
     "metadata": {},
     "output_type": "execute_result"
    }
   ],
   "source": [
    "data['交易权属'].value_counts()#label_encoder"
   ]
  },
  {
   "cell_type": "code",
   "execution_count": 76,
   "metadata": {},
   "outputs": [
    {
     "data": {
      "text/plain": [
       "普通住宅    2923\n",
       "新式里弄       5\n",
       "花园洋房       1\n",
       "Name: 房屋用途, dtype: int64"
      ]
     },
     "execution_count": 76,
     "metadata": {},
     "output_type": "execute_result"
    }
   ],
   "source": [
    "data['房屋用途'].value_counts()#单一类型占比较大，删除"
   ]
  },
  {
   "cell_type": "code",
   "execution_count": 77,
   "metadata": {},
   "outputs": [
    {
     "data": {
      "text/plain": [
       "满五年     1264\n",
       "暂无数据     918\n",
       "满两年      424\n",
       "未满两年     323\n",
       "Name: 房屋年限, dtype: int64"
      ]
     },
     "execution_count": 77,
     "metadata": {},
     "output_type": "execute_result"
    }
   ],
   "source": [
    "data['房屋年限'].value_counts()#分类类型转换"
   ]
  },
  {
   "cell_type": "code",
   "execution_count": 78,
   "metadata": {},
   "outputs": [],
   "source": [
    "imp = SimpleImputer(missing_values='暂无数据', strategy='most_frequent')\n",
    "data['房屋年限'] = imp.fit_transform(data['房屋年限'].values.reshape(-1,1))"
   ]
  },
  {
   "cell_type": "code",
   "execution_count": 79,
   "metadata": {},
   "outputs": [
    {
     "data": {
      "text/plain": [
       "共有      1572\n",
       "非共有     1130\n",
       "暂无数据     227\n",
       "Name: 产权所属, dtype: int64"
      ]
     },
     "execution_count": 79,
     "metadata": {},
     "output_type": "execute_result"
    }
   ],
   "source": [
    "data['产权所属'].value_counts()"
   ]
  },
  {
   "cell_type": "code",
   "execution_count": 80,
   "metadata": {},
   "outputs": [],
   "source": [
    "imp = SimpleImputer(missing_values='暂无数据', strategy='most_frequent')\n",
    "data['产权所属'] = imp.fit_transform(data['产权所属'].values.reshape(-1,1))"
   ]
  },
  {
   "cell_type": "code",
   "execution_count": 81,
   "metadata": {},
   "outputs": [
    {
     "data": {
      "text/plain": [
       "Index(['小区纬度', '小区经度', '邻近地铁站', '所属街道', '所属区域', '总价', '地铁线路', '每平方售价', '建造时间',\n",
       "       '室数', '厅数', '厨数', '卫数', '所在楼层', '楼层总数', '建筑面积', '户型结构', '建筑类型', '房屋朝向',\n",
       "       '建筑结构', '装修情况', '梯数', '户数', '配备电梯', '挂牌时间', '交易权属', '上次交易', '房屋用途',\n",
       "       '房屋年限', '产权所属', '标题长度'],\n",
       "      dtype='object')"
      ]
     },
     "execution_count": 81,
     "metadata": {},
     "output_type": "execute_result"
    }
   ],
   "source": [
    "data.columns"
   ]
  },
  {
   "cell_type": "code",
   "execution_count": 82,
   "metadata": {},
   "outputs": [],
   "source": [
    "#****************特征完整****************\n",
    "#'小区纬度', '小区经度','每平方售价','室数', '厅数', '厨数', '卫数','建筑面积','梯数', '户数'"
   ]
  },
  {
   "cell_type": "code",
   "execution_count": 83,
   "metadata": {},
   "outputs": [],
   "source": [
    "#****************特征删除****************\n",
    "#删除'链家编号','小区名称','每平方售价','url','抵押信息', '别墅类型','套内面积',\n",
    "#'房屋朝向','挂牌时间','房屋用途','上次交易'"
   ]
  },
  {
   "cell_type": "code",
   "execution_count": 84,
   "metadata": {},
   "outputs": [],
   "source": [
    " data = data.drop(['每平方售价','房屋朝向','挂牌时间','房屋用途','上次交易'], axis=1)"
   ]
  },
  {
   "cell_type": "code",
   "execution_count": 85,
   "metadata": {},
   "outputs": [],
   "source": [
    "#********************数据探索********************"
   ]
  },
  {
   "cell_type": "code",
   "execution_count": 86,
   "metadata": {},
   "outputs": [
    {
     "data": {
      "image/png": "[encoded data removed]",
      "text/plain": [
       "<Figure size 432x288 with 1 Axes>"
      ]
     },
     "metadata": {
      "needs_background": "light"
     },
     "output_type": "display_data"
    }
   ],
   "source": [
    "fig, ax = plt.subplots()\n",
    "ax.scatter(x = data['建筑面积'], y = data['总价'])\n",
    "plt.ylabel('总价/万', fontsize=13)\n",
    "plt.xlabel('建筑面积/㎡', fontsize=13)\n",
    "plt.show()\n",
    "#总体来说，房屋总价和建筑面积还是呈现线性关系的，随着建筑面积的增加，房屋总价上涨"
   ]
  },
  {
   "cell_type": "code",
   "execution_count": 87,
   "metadata": {},
   "outputs": [
    {
     "data": {
      "text/plain": [
       "array([[<matplotlib.axes._subplots.AxesSubplot object at 0x1B1BDB50>,\n",
       "        <matplotlib.axes._subplots.AxesSubplot object at 0x00B2D9F0>]],\n",
       "      dtype=object)"
      ]
     },
     "execution_count": 87,
     "metadata": {},
     "output_type": "execute_result"
    },
    {
     "data": {
      "image/png": "[encoded data removed]",
      "text/plain": [
       "<Figure size 864x432 with 2 Axes>"
      ]
     },
     "metadata": {
      "needs_background": "light"
     },
     "output_type": "display_data"
    }
   ],
   "source": [
    "matplotlib.rcParams['figure.figsize'] = (12.0, 6.0)\n",
    "prices = pd.DataFrame({\"总价\":data[\"总价\"],\"log(总价+ 1)\":np.log1p(data[\"总价\"])})\n",
    "prices.hist()"
   ]
  },
  {
   "cell_type": "code",
   "execution_count": 196,
   "metadata": {},
   "outputs": [
    {
     "data": {
      "text/plain": [
       "5180.0"
      ]
     },
     "execution_count": 196,
     "metadata": {},
     "output_type": "execute_result"
    }
   ],
   "source": [
    "data['总价'].max()"
   ]
  },
  {
   "cell_type": "code",
   "execution_count": 89,
   "metadata": {},
   "outputs": [],
   "source": [
    "quantitative = [feature for feature in data.columns if data.dtypes[feature] != 'object'] # 定量变量\n",
    "quantitative.remove('总价')\n",
    "qualitative = [feature for feature in data.columns if data.dtypes[feature] == 'object'] # 定性变量"
   ]
  },
  {
   "cell_type": "code",
   "execution_count": 90,
   "metadata": {},
   "outputs": [
    {
     "data": {
      "text/plain": [
       "<seaborn.axisgrid.FacetGrid at 0xcb7070>"
      ]
     },
     "execution_count": 90,
     "metadata": {},
     "output_type": "execute_result"
    },
    {
     "data": {
      "image/png": "[encoded data removed]",
      "text/plain": [
       "<Figure size 864x648 with 12 Axes>"
      ]
     },
     "metadata": {
      "needs_background": "light"
     },
     "output_type": "display_data"
    }
   ],
   "source": [
    "m_cont = pd.melt(data, value_vars=quantitative)\n",
    "g = sns.FacetGrid(m_cont, col='variable', col_wrap=4, sharex=False, sharey=False)\n",
    "g.map(sns.distplot, 'value')"
   ]
  },
  {
   "cell_type": "code",
   "execution_count": 91,
   "metadata": {},
   "outputs": [
    {
     "name": "stderr",
     "output_type": "stream",
     "text": [
      "d:\\python\\lib\\site-packages\\seaborn\\axisgrid.py:723: UserWarning: Using the countplot function without specifying `order` is likely to produce an incorrect plot.\n",
      "  warnings.warn(warning)\n"
     ]
    },
    {
     "data": {
      "text/plain": [
       "<seaborn.axisgrid.FacetGrid at 0xac9450>"
      ]
     },
     "execution_count": 91,
     "metadata": {},
     "output_type": "execute_result"
    },
    {
     "data": {
      "image/png": "[encoded data removed]",
      "text/plain": [
       "<Figure size 864x864 with 13 Axes>"
      ]
     },
     "metadata": {
      "needs_background": "light"
     },
     "output_type": "display_data"
    }
   ],
   "source": [
    "# 定性变量频数统计图\n",
    "m_disc = pd.melt(data, value_vars=qualitative)\n",
    "g = sns.FacetGrid(m_disc, col='variable', col_wrap=4, sharex=False, sharey=False)\n",
    "g.map(sns.countplot, 'value')\n"
   ]
  },
  {
   "cell_type": "code",
   "execution_count": 92,
   "metadata": {},
   "outputs": [
    {
     "data": {
      "image/png": "[encoded data removed]",
      "text/plain": [
       "<Figure size 576x432 with 1 Axes>"
      ]
     },
     "metadata": {
      "needs_background": "light"
     },
     "output_type": "display_data"
    }
   ],
   "source": [
    "#单因素ANOVA也就是单因素方差分析，是用来研究一个控制变量的不同水平是否对观测变量产生了显著影响。通俗地讲就是分析变量x的变化对变量y\n",
    "#的影响的显著性，所以一般变量之间存在某种影响关系的，验证一种变量的变化对另一种变量的影响显著性的检验。\n",
    "def anova(frame, qualitative):\n",
    "    anv = pd.DataFrame()\n",
    "    anv['feature'] = qualitative\n",
    "    p_vals = []\n",
    "    for fea in qualitative:\n",
    "        samples = []\n",
    "        cls = frame[fea].unique() # 变量的类别值\n",
    "        for c in cls:\n",
    "            c_array = frame[frame[fea]==c]['总价'].values\n",
    "            samples.append(c_array)\n",
    "        p_val = stats.f_oneway(*samples)[1] # 获得p值,p值越小，对SalePrice的显著性影响越大\n",
    "        p_vals.append(p_val)\n",
    "    anv['pval'] = p_vals\n",
    "    return anv.sort_values('pval')\n",
    "a = anova(data, qualitative)\n",
    "a['影响程度'] = np.log(1./a['pval'].values) # 对SalePrice的影响悬殊度\n",
    "plt.figure(figsize=(8, 6))\n",
    "sns.barplot(x='feature', y='影响程度', data=a)\n",
    "plt.xticks(rotation=90)\n",
    "plt.show()"
   ]
  },
  {
   "cell_type": "code",
   "execution_count": 93,
   "metadata": {},
   "outputs": [],
   "source": [
    "data_encoded = data.copy()"
   ]
  },
  {
   "cell_type": "code",
   "execution_count": 94,
   "metadata": {},
   "outputs": [
    {
     "name": "stdout",
     "output_type": "stream",
     "text": [
      "['邻近地铁站_E', '所属街道_E', '所属区域_E', '地铁线路_E', '所在楼层_E', '户型结构_E', '建筑类型_E', '建筑结构_E', '装修情况_E', '配备电梯_E', '交易权属_E', '房屋年限_E', '产权所属_E']\n"
     ]
    }
   ],
   "source": [
    "#对定性特征按照房价平均值进行排序编码\n",
    "def encode(frame, feature):\n",
    "    ordering = pd.DataFrame()\n",
    "    ordering['val'] = frame[feature].unique()#找出该特征的所有分类赋予索引\n",
    "    ordering.index = ordering['val']\n",
    "    ordering['spmean'] = frame[[feature, '总价']].groupby(feature)['总价'].mean()#计算该特征每一种分类的房价平均值\n",
    "    ordering = ordering.sort_values('spmean')#房价平均值由低到高排序\n",
    "    ordering['ordering'] = np.arange(1, ordering.shape[0]+1)#用排序的结果代替房价平均值的高低\n",
    "    ordering = ordering['ordering'].to_dict() # 返回的数据样例{category1:1, category2:2, ...}\n",
    "\n",
    "    # 对frame[feature]编码，新增一列编码后的特征，并将分类编码值填充到对应的位置\n",
    "    for category, code_value in ordering.items():\n",
    "        frame.loc[frame[feature]==category, feature+'_E'] = code_value\n",
    "qual_encoded = []\n",
    "for qual in qualitative:\n",
    "    encode(data_encoded, qual)\n",
    "    qual_encoded.append(qual+'_E')\n",
    "print(qual_encoded)"
   ]
  },
  {
   "cell_type": "code",
   "execution_count": 95,
   "metadata": {},
   "outputs": [
    {
     "name": "stderr",
     "output_type": "stream",
     "text": [
      "d:\\python\\lib\\site-packages\\matplotlib\\backends\\backend_agg.py:211: RuntimeWarning: Glyph 8722 missing from current font.\n",
      "  font.set_text(s, 0.0, flags=flags)\n",
      "d:\\python\\lib\\site-packages\\matplotlib\\backends\\backend_agg.py:180: RuntimeWarning: Glyph 8722 missing from current font.\n",
      "  font.set_text(s, 0, flags=flags)\n"
     ]
    },
    {
     "data": {
      "image/png": "[encoded data removed]",
      "text/plain": [
       "<Figure size 432x450 with 1 Axes>"
      ]
     },
     "metadata": {
      "needs_background": "light"
     },
     "output_type": "display_data"
    }
   ],
   "source": [
    "# 计算特征变量与房价的spearman相关系数\n",
    "def spearman(frame, features):\n",
    "    spr =  pd.DataFrame()\n",
    "    spr['feature'] = features\n",
    "    spr['spearman'] = [frame[f].corr(frame['总价'],'spearman') for f in features]\n",
    "    spr = spr.sort_values('spearman')\n",
    "\n",
    "    plt.figure(figsize=(6, 0.25*len(features)))\n",
    "    sns.barplot(x='spearman', y='feature', data=spr)\n",
    "spearman(data_encoded, quantitative+qual_encoded)"
   ]
  },
  {
   "cell_type": "code",
   "execution_count": 201,
   "metadata": {},
   "outputs": [
    {
     "data": {
      "image/png": "[encoded data removed]",
      "text/plain": [
       "<Figure size 864x648 with 2 Axes>"
      ]
     },
     "metadata": {},
     "output_type": "display_data"
    }
   ],
   "source": [
    "# 分析变量之间的相关性\n",
    "plt.figure(1, figsize=(12,9))\n",
    "corr = data_encoded[['总价']+quantitative+qual_encoded].corr()\n",
    "k = 10 #热度图显示的特征数量\n",
    "cols = corr.nlargest(k, '总价')['总价'].index\n",
    "cm = np.corrcoef(data_encoded[cols].values.T)\n",
    "sns.set(font_scale=1)\n",
    "# plt.rcParams['font.family'] = 'AR PL UKai CN'\n",
    "cmap=sns.color_palette('RdBu_r') \n",
    "hm = sns.heatmap(cm, cbar=True, annot=True, square=True, fmt='.2f', annot_kws={'size': 11}, yticklabels=cols.values, xticklabels=cols.values,cmap=cmap)\n",
    "#设置参数，可以显示中文\n",
    "plt.rcParams['font.sans-serif'] = [u'SimHei']\n",
    "plt.rcParams['axes.unicode_minus'] = False"
   ]
  },
  {
   "cell_type": "code",
   "execution_count": 97,
   "metadata": {},
   "outputs": [],
   "source": [
    "#*********************特征工程*******************"
   ]
  },
  {
   "cell_type": "code",
   "execution_count": 98,
   "metadata": {},
   "outputs": [],
   "source": [
    "#****************特征编码**************\n",
    "#'邻进地铁站'(暂无信息，其他有明确的站点)————————————定义映射函数\n",
    "#'地铁线路'(暂无信息，其他有明确的线路)——————————————定义映射函数\n",
    "#'所在楼层'(分为低中高三类)—————————————————————————定义映射函数\n",
    "#'户型结构'(平层\\复式\\错层\\跃层)————————————————————OneHotEncoder\n",
    "#'建筑类型'(板楼\\塔楼\\板塔结合)————————————————————OneHotEncoder\n",
    "#'建筑结构'(钢混结构\\砖混结构\\混合结构\\框架结构)—————OneHotEncoder\n",
    "#'装修情况'(精装\\简装\\毛坯\\其他)————————————————————定义映射函数\n",
    "#'配备电梯'(有\\无)—————————————————————————————————label_encoder\n",
    "#'交易权属'(商品房\\动迁安置房\\售后公房)—————————————OneHotEncoder\n",
    "#'房屋年限'(满五年\\满两年\\未满两年 )————————————————定义映射函数\n",
    "#'产权所属'(共有\\非共有)———————————————————————————label_encoder\n",
    "#'所属街道'(共有164个街道)—————————————————————————label_encoder\n",
    "#'梯数'和'户数'需要将汉语数字变成阿拉伯数字"
   ]
  },
  {
   "cell_type": "code",
   "execution_count": 99,
   "metadata": {},
   "outputs": [],
   "source": [
    "#******************特征创造*******************\n",
    "#'标题'变成'标题长度'————————————————————————————————已完成\n"
   ]
  },
  {
   "cell_type": "code",
   "execution_count": 134,
   "metadata": {},
   "outputs": [],
   "source": [
    "newdata = data.copy()"
   ]
  },
  {
   "cell_type": "code",
   "execution_count": 135,
   "metadata": {},
   "outputs": [
    {
     "name": "stdout",
     "output_type": "stream",
     "text": [
      "<class 'pandas.core.frame.DataFrame'>\n",
      "RangeIndex: 2929 entries, 0 to 2928\n",
      "Data columns (total 26 columns):\n",
      "小区纬度     2929 non-null float64\n",
      "小区经度     2929 non-null float64\n",
      "邻近地铁站    2929 non-null object\n",
      "所属街道     2929 non-null object\n",
      "所属区域     2929 non-null object\n",
      "总价       2929 non-null float64\n",
      "地铁线路     2929 non-null object\n",
      "建造时间     2929 non-null int32\n",
      "室数       2929 non-null int64\n",
      "厅数       2929 non-null int64\n",
      "厨数       2929 non-null int64\n",
      "卫数       2929 non-null int64\n",
      "所在楼层     2929 non-null object\n",
      "楼层总数     2929 non-null int64\n",
      "建筑面积     2929 non-null float64\n",
      "户型结构     2929 non-null object\n",
      "建筑类型     2929 non-null object\n",
      "建筑结构     2929 non-null object\n",
      "装修情况     2929 non-null object\n",
      "梯数       2929 non-null int32\n",
      "户数       2929 non-null int32\n",
      "配备电梯     2929 non-null object\n",
      "交易权属     2929 non-null object\n",
      "房屋年限     2929 non-null object\n",
      "产权所属     2929 non-null object\n",
      "标题长度     2929 non-null int64\n",
      "dtypes: float64(4), int32(3), int64(6), object(13)\n",
      "memory usage: 412.0+ KB\n"
     ]
    }
   ],
   "source": [
    "newdata.info()"
   ]
  },
  {
   "cell_type": "code",
   "execution_count": 136,
   "metadata": {},
   "outputs": [],
   "source": [
    "loc_feature = ['地铁线路','邻近地铁站']\n",
    "for feature in loc_feature:\n",
    "    for index,value in enumerate(newdata[feature]):\n",
    "        if value == '暂无信息':\n",
    "            newdata.loc[index,feature] = 0\n",
    "        else:\n",
    "            newdata.loc[index,feature] = 1"
   ]
  },
  {
   "cell_type": "code",
   "execution_count": 137,
   "metadata": {},
   "outputs": [
    {
     "data": {
      "text/plain": [
       "0       1\n",
       "1       1\n",
       "2       0\n",
       "3       0\n",
       "4       0\n",
       "       ..\n",
       "2924    1\n",
       "2925    1\n",
       "2926    1\n",
       "2927    0\n",
       "2928    1\n",
       "Name: 地铁线路, Length: 2929, dtype: int64"
      ]
     },
     "execution_count": 137,
     "metadata": {},
     "output_type": "execute_result"
    }
   ],
   "source": [
    "newdata['地铁线路']"
   ]
  },
  {
   "cell_type": "code",
   "execution_count": 138,
   "metadata": {},
   "outputs": [],
   "source": [
    "#定义映射函数\n",
    "def map_values(df):\n",
    "    df['所在楼层'] = df['所在楼层'].map({'低楼层':1\n",
    "                                       ,'中楼层':2\n",
    "                                       ,'高楼层':3\n",
    "                                      })\n",
    "\n",
    "    df['装修情况'] = df['装修情况'].map({'其他':1\n",
    "                                        ,'毛坯':2\n",
    "                                        ,'简装':3\n",
    "                                        ,'精装':4\n",
    "                                       })\n",
    "\n",
    "    df['房屋年限'] = df['房屋年限'].map({'未满两年':1\n",
    "                                        ,'满两年':2\n",
    "                                        ,'满五年':3\n",
    "                                        })"
   ]
  },
  {
   "cell_type": "code",
   "execution_count": 139,
   "metadata": {},
   "outputs": [],
   "source": [
    "map_values(newdata)"
   ]
  },
  {
   "cell_type": "code",
   "execution_count": 140,
   "metadata": {},
   "outputs": [
    {
     "data": {
      "text/plain": [
       "2    1097\n",
       "3     996\n",
       "1     836\n",
       "Name: 所在楼层, dtype: int64"
      ]
     },
     "execution_count": 140,
     "metadata": {},
     "output_type": "execute_result"
    }
   ],
   "source": [
    "newdata['所在楼层'].value_counts()"
   ]
  },
  {
   "cell_type": "code",
   "execution_count": 141,
   "metadata": {},
   "outputs": [],
   "source": [
    "from sklearn.preprocessing import OneHotEncoder"
   ]
  },
  {
   "cell_type": "code",
   "execution_count": 142,
   "metadata": {},
   "outputs": [],
   "source": [
    "columns_OneHotEncoder = ['户型结构','建筑类型','建筑结构','交易权属']\n",
    "for feature in columns_OneHotEncoder:\n",
    "    X = newdata[feature].values.reshape(-1,1)\n",
    "    enc = OneHotEncoder(categories='auto').fit(X)\n",
    "    result = enc.transform(X).toarray()\n",
    "    columns = [str(feature)+str(i) for i in range(result.shape[1])]\n",
    "    result = pd.DataFrame(result,columns =columns )\n",
    "    newdata = pd.concat([newdata,result],axis=1)\n",
    "    newdata=newdata.drop([feature],axis=1)"
   ]
  },
  {
   "cell_type": "code",
   "execution_count": 143,
   "metadata": {},
   "outputs": [
    {
     "data": {
      "text/plain": [
       "Index(['小区纬度', '小区经度', '邻近地铁站', '所属街道', '所属区域', '总价', '地铁线路', '建造时间', '室数',\n",
       "       '厅数', '厨数', '卫数', '所在楼层', '楼层总数', '建筑面积', '装修情况', '梯数', '户数', '配备电梯',\n",
       "       '房屋年限', '产权所属', '标题长度', '户型结构0', '户型结构1', '户型结构2', '户型结构3', '建筑类型0',\n",
       "       '建筑类型1', '建筑类型2', '建筑结构0', '建筑结构1', '建筑结构2', '建筑结构3', '建筑结构4', '交易权属0',\n",
       "       '交易权属1', '交易权属2'],\n",
       "      dtype='object')"
      ]
     },
     "execution_count": 143,
     "metadata": {},
     "output_type": "execute_result"
    }
   ],
   "source": [
    "newdata.columns"
   ]
  },
  {
   "cell_type": "code",
   "execution_count": 144,
   "metadata": {},
   "outputs": [],
   "source": [
    "from sklearn.preprocessing import LabelEncoder\n",
    "columns_LabelEncoder=['产权所属','配备电梯','所属区域','所属街道']\n",
    "for feature in columns_LabelEncoder:\n",
    "    newdata[feature] = LabelEncoder().fit_transform(newdata[feature].values.reshape(-1,1).ravel())"
   ]
  },
  {
   "cell_type": "code",
   "execution_count": 145,
   "metadata": {},
   "outputs": [
    {
     "data": {
      "text/plain": [
       "0    1799\n",
       "1    1130\n",
       "Name: 产权所属, dtype: int64"
      ]
     },
     "execution_count": 145,
     "metadata": {},
     "output_type": "execute_result"
    }
   ],
   "source": [
    "newdata['产权所属'].value_counts()"
   ]
  },
  {
   "cell_type": "code",
   "execution_count": 146,
   "metadata": {},
   "outputs": [
    {
     "data": {
      "text/plain": [
       "['小区纬度',\n",
       " '小区经度',\n",
       " '邻近地铁站',\n",
       " '所属街道',\n",
       " '所属区域',\n",
       " '总价',\n",
       " '地铁线路',\n",
       " '建造时间',\n",
       " '室数',\n",
       " '厅数',\n",
       " '厨数',\n",
       " '卫数',\n",
       " '所在楼层',\n",
       " '楼层总数',\n",
       " '建筑面积',\n",
       " '装修情况',\n",
       " '梯数',\n",
       " '户数',\n",
       " '配备电梯',\n",
       " '房屋年限',\n",
       " '产权所属',\n",
       " '标题长度',\n",
       " '户型结构0',\n",
       " '户型结构1',\n",
       " '户型结构2',\n",
       " '户型结构3',\n",
       " '建筑类型0',\n",
       " '建筑类型1',\n",
       " '建筑类型2',\n",
       " '建筑结构0',\n",
       " '建筑结构1',\n",
       " '建筑结构2',\n",
       " '建筑结构3',\n",
       " '建筑结构4',\n",
       " '交易权属0',\n",
       " '交易权属1',\n",
       " '交易权属2']"
      ]
     },
     "execution_count": 146,
     "metadata": {},
     "output_type": "execute_result"
    }
   ],
   "source": [
    "list(newdata.columns)"
   ]
  },
  {
   "cell_type": "code",
   "execution_count": 147,
   "metadata": {},
   "outputs": [
    {
     "data": {
      "text/html": [
       "<div>\n",
       "<style scoped>\n",
       "    .dataframe tbody tr th:only-of-type {\n",
       "        vertical-align: middle;\n",
       "    }\n",
       "\n",
       "    .dataframe tbody tr th {\n",
       "        vertical-align: top;\n",
       "    }\n",
       "\n",
       "    .dataframe thead th {\n",
       "        text-align: right;\n",
       "    }\n",
       "</style>\n",
       "<table border=\"1\" class=\"dataframe\">\n",
       "  <thead>\n",
       "    <tr style=\"text-align: right;\">\n",
       "      <th></th>\n",
       "      <th>小区纬度</th>\n",
       "      <th>小区经度</th>\n",
       "      <th>邻近地铁站</th>\n",
       "      <th>所属街道</th>\n",
       "      <th>所属区域</th>\n",
       "      <th>总价</th>\n",
       "      <th>地铁线路</th>\n",
       "      <th>建造时间</th>\n",
       "      <th>室数</th>\n",
       "      <th>厅数</th>\n",
       "      <th>...</th>\n",
       "      <th>建筑类型1</th>\n",
       "      <th>建筑类型2</th>\n",
       "      <th>建筑结构0</th>\n",
       "      <th>建筑结构1</th>\n",
       "      <th>建筑结构2</th>\n",
       "      <th>建筑结构3</th>\n",
       "      <th>建筑结构4</th>\n",
       "      <th>交易权属0</th>\n",
       "      <th>交易权属1</th>\n",
       "      <th>交易权属2</th>\n",
       "    </tr>\n",
       "  </thead>\n",
       "  <tbody>\n",
       "    <tr>\n",
       "      <th>0</th>\n",
       "      <td>31.212354</td>\n",
       "      <td>121.552919</td>\n",
       "      <td>1</td>\n",
       "      <td>125</td>\n",
       "      <td>7</td>\n",
       "      <td>450.000000</td>\n",
       "      <td>1</td>\n",
       "      <td>1995</td>\n",
       "      <td>2</td>\n",
       "      <td>1</td>\n",
       "      <td>...</td>\n",
       "      <td>0.000000</td>\n",
       "      <td>1.000000</td>\n",
       "      <td>0.000000</td>\n",
       "      <td>0.000000</td>\n",
       "      <td>0.000000</td>\n",
       "      <td>1.000000</td>\n",
       "      <td>0.000000</td>\n",
       "      <td>0.000000</td>\n",
       "      <td>0.000000</td>\n",
       "      <td>1.000000</td>\n",
       "    </tr>\n",
       "    <tr>\n",
       "      <th>1</th>\n",
       "      <td>31.283734</td>\n",
       "      <td>121.592517</td>\n",
       "      <td>1</td>\n",
       "      <td>141</td>\n",
       "      <td>7</td>\n",
       "      <td>540.000000</td>\n",
       "      <td>1</td>\n",
       "      <td>2002</td>\n",
       "      <td>2</td>\n",
       "      <td>2</td>\n",
       "      <td>...</td>\n",
       "      <td>0.000000</td>\n",
       "      <td>1.000000</td>\n",
       "      <td>0.000000</td>\n",
       "      <td>0.000000</td>\n",
       "      <td>0.000000</td>\n",
       "      <td>0.000000</td>\n",
       "      <td>1.000000</td>\n",
       "      <td>0.000000</td>\n",
       "      <td>0.000000</td>\n",
       "      <td>1.000000</td>\n",
       "    </tr>\n",
       "    <tr>\n",
       "      <th>2</th>\n",
       "      <td>31.164962</td>\n",
       "      <td>121.541312</td>\n",
       "      <td>0</td>\n",
       "      <td>89</td>\n",
       "      <td>7</td>\n",
       "      <td>375.000000</td>\n",
       "      <td>0</td>\n",
       "      <td>2006</td>\n",
       "      <td>2</td>\n",
       "      <td>1</td>\n",
       "      <td>...</td>\n",
       "      <td>0.000000</td>\n",
       "      <td>1.000000</td>\n",
       "      <td>0.000000</td>\n",
       "      <td>0.000000</td>\n",
       "      <td>0.000000</td>\n",
       "      <td>0.000000</td>\n",
       "      <td>1.000000</td>\n",
       "      <td>0.000000</td>\n",
       "      <td>0.000000</td>\n",
       "      <td>1.000000</td>\n",
       "    </tr>\n",
       "    <tr>\n",
       "      <th>3</th>\n",
       "      <td>31.241109</td>\n",
       "      <td>121.427846</td>\n",
       "      <td>0</td>\n",
       "      <td>98</td>\n",
       "      <td>4</td>\n",
       "      <td>217.000000</td>\n",
       "      <td>0</td>\n",
       "      <td>1990</td>\n",
       "      <td>2</td>\n",
       "      <td>1</td>\n",
       "      <td>...</td>\n",
       "      <td>0.000000</td>\n",
       "      <td>1.000000</td>\n",
       "      <td>0.000000</td>\n",
       "      <td>0.000000</td>\n",
       "      <td>0.000000</td>\n",
       "      <td>0.000000</td>\n",
       "      <td>1.000000</td>\n",
       "      <td>0.000000</td>\n",
       "      <td>0.000000</td>\n",
       "      <td>1.000000</td>\n",
       "    </tr>\n",
       "    <tr>\n",
       "      <th>4</th>\n",
       "      <td>31.143257</td>\n",
       "      <td>121.457209</td>\n",
       "      <td>0</td>\n",
       "      <td>97</td>\n",
       "      <td>3</td>\n",
       "      <td>370.000000</td>\n",
       "      <td>0</td>\n",
       "      <td>2012</td>\n",
       "      <td>1</td>\n",
       "      <td>1</td>\n",
       "      <td>...</td>\n",
       "      <td>1.000000</td>\n",
       "      <td>0.000000</td>\n",
       "      <td>0.000000</td>\n",
       "      <td>0.000000</td>\n",
       "      <td>0.000000</td>\n",
       "      <td>0.000000</td>\n",
       "      <td>1.000000</td>\n",
       "      <td>0.000000</td>\n",
       "      <td>0.000000</td>\n",
       "      <td>1.000000</td>\n",
       "    </tr>\n",
       "  </tbody>\n",
       "</table>\n",
       "<p>5 rows × 37 columns</p>\n",
       "</div>"
      ],
      "text/plain": [
       "       小区纬度       小区经度  邻近地铁站  所属街道  所属区域         总价  地铁线路  建造时间  室数  厅数  ...  \\\n",
       "0 31.212354 121.552919      1   125     7 450.000000     1  1995   2   1  ...   \n",
       "1 31.283734 121.592517      1   141     7 540.000000     1  2002   2   2  ...   \n",
       "2 31.164962 121.541312      0    89     7 375.000000     0  2006   2   1  ...   \n",
       "3 31.241109 121.427846      0    98     4 217.000000     0  1990   2   1  ...   \n",
       "4 31.143257 121.457209      0    97     3 370.000000     0  2012   1   1  ...   \n",
       "\n",
       "     建筑类型1    建筑类型2    建筑结构0    建筑结构1    建筑结构2    建筑结构3    建筑结构4    交易权属0  \\\n",
       "0 0.000000 1.000000 0.000000 0.000000 0.000000 1.000000 0.000000 0.000000   \n",
       "1 0.000000 1.000000 0.000000 0.000000 0.000000 0.000000 1.000000 0.000000   \n",
       "2 0.000000 1.000000 0.000000 0.000000 0.000000 0.000000 1.000000 0.000000   \n",
       "3 0.000000 1.000000 0.000000 0.000000 0.000000 0.000000 1.000000 0.000000   \n",
       "4 1.000000 0.000000 0.000000 0.000000 0.000000 0.000000 1.000000 0.000000   \n",
       "\n",
       "     交易权属1    交易权属2  \n",
       "0 0.000000 1.000000  \n",
       "1 0.000000 1.000000  \n",
       "2 0.000000 1.000000  \n",
       "3 0.000000 1.000000  \n",
       "4 0.000000 1.000000  \n",
       "\n",
       "[5 rows x 37 columns]"
      ]
     },
     "execution_count": 147,
     "metadata": {},
     "output_type": "execute_result"
    }
   ],
   "source": [
    "newdata.head()"
   ]
  },
  {
   "cell_type": "code",
   "execution_count": 152,
   "metadata": {},
   "outputs": [],
   "source": [
    "x=newdata.drop(\"总价\",axis=1)\n",
    "y=newdata[\"总价\"]\n",
    "r_s=300"
   ]
  },
  {
   "cell_type": "code",
   "execution_count": 153,
   "metadata": {},
   "outputs": [],
   "source": [
    "from sklearn.model_selection import train_test_split\n",
    "X_train, X_val, y_train, y_val = train_test_split(x, y, test_size=0.30, random_state=r_s)"
   ]
  },
  {
   "cell_type": "code",
   "execution_count": 154,
   "metadata": {},
   "outputs": [],
   "source": [
    "from sklearn.metrics import mean_squared_error,mean_absolute_error\n",
    "from sklearn.ensemble import RandomForestRegressor\n",
    "from sklearn.linear_model import LinearRegression\n",
    "from sklearn.neighbors import KNeighborsRegressor\n",
    "from sklearn.tree import DecisionTreeRegressor\n",
    "from sklearn.svm import SVR"
   ]
  },
  {
   "cell_type": "code",
   "execution_count": 174,
   "metadata": {},
   "outputs": [],
   "source": [
    "regressors=[ \n",
    "           DecisionTreeRegressor()\n",
    "           ,LinearRegression()\n",
    "           ,KNeighborsRegressor()\n",
    "           ,RandomForestRegressor(random_state=r_s)\n",
    "          ]\n",
    "\n",
    "scores_val=[]\n",
    "MAE=[]\n",
    "\n",
    "for regressor in regressors:\n",
    "    scores_val.append(regressor.fit(X_train,y_train).score(X_val,y_val))\n",
    "    y_pred=regressor.predict(X_val)\n",
    "    MAE.append(mean_absolute_error(y_val,y_pred))\n",
    "\n",
    "    \n",
    "results=zip(scores_val,MAE)\n",
    "results=set(results) "
   ]
  },
  {
   "cell_type": "code",
   "execution_count": 175,
   "metadata": {},
   "outputs": [
    {
     "data": {
      "text/plain": [
       "{(0.5827318536462814, 124.02538161404269),\n",
       " (0.712687263848648, 117.18215017064847),\n",
       " (0.7221056243912933, 105.80296928327645),\n",
       " (0.8177975563938965, 72.58625483503982)}"
      ]
     },
     "execution_count": 175,
     "metadata": {},
     "output_type": "execute_result"
    }
   ],
   "source": [
    "results"
   ]
  },
  {
   "cell_type": "code",
   "execution_count": 176,
   "metadata": {},
   "outputs": [
    {
     "data": {
      "text/html": [
       "<div>\n",
       "<style scoped>\n",
       "    .dataframe tbody tr th:only-of-type {\n",
       "        vertical-align: middle;\n",
       "    }\n",
       "\n",
       "    .dataframe tbody tr th {\n",
       "        vertical-align: top;\n",
       "    }\n",
       "\n",
       "    .dataframe thead th {\n",
       "        text-align: right;\n",
       "    }\n",
       "</style>\n",
       "<table border=\"1\" class=\"dataframe\">\n",
       "  <thead>\n",
       "    <tr style=\"text-align: right;\">\n",
       "      <th></th>\n",
       "      <th>Algorithms</th>\n",
       "      <th>Validation Score</th>\n",
       "      <th>MAE</th>\n",
       "    </tr>\n",
       "  </thead>\n",
       "  <tbody>\n",
       "    <tr>\n",
       "      <th>0</th>\n",
       "      <td>DecisionTreeRegressor(ccp_alpha=0.0, criterion...</td>\n",
       "      <td>0.712687</td>\n",
       "      <td>117.182150</td>\n",
       "    </tr>\n",
       "    <tr>\n",
       "      <th>1</th>\n",
       "      <td>LinearRegression(copy_X=True, fit_intercept=Tr...</td>\n",
       "      <td>0.817798</td>\n",
       "      <td>72.586255</td>\n",
       "    </tr>\n",
       "    <tr>\n",
       "      <th>2</th>\n",
       "      <td>KNeighborsRegressor(algorithm='auto', leaf_siz...</td>\n",
       "      <td>0.582732</td>\n",
       "      <td>124.025382</td>\n",
       "    </tr>\n",
       "    <tr>\n",
       "      <th>3</th>\n",
       "      <td>(DecisionTreeRegressor(ccp_alpha=0.0, criterio...</td>\n",
       "      <td>0.722106</td>\n",
       "      <td>105.802969</td>\n",
       "    </tr>\n",
       "  </tbody>\n",
       "</table>\n",
       "</div>"
      ],
      "text/plain": [
       "                                          Algorithms  Validation Score  \\\n",
       "0  DecisionTreeRegressor(ccp_alpha=0.0, criterion...          0.712687   \n",
       "1  LinearRegression(copy_X=True, fit_intercept=Tr...          0.817798   \n",
       "2  KNeighborsRegressor(algorithm='auto', leaf_siz...          0.582732   \n",
       "3  (DecisionTreeRegressor(ccp_alpha=0.0, criterio...          0.722106   \n",
       "\n",
       "         MAE  \n",
       "0 117.182150  \n",
       "1  72.586255  \n",
       "2 124.025382  \n",
       "3 105.802969  "
      ]
     },
     "execution_count": 176,
     "metadata": {},
     "output_type": "execute_result"
    }
   ],
   "source": [
    "results_score_val=[item[0] for item in results]\n",
    "results_MAE=[item[1] for item in results]\n",
    "\n",
    "\n",
    "\n",
    "df_results=pd.DataFrame({\"Algorithms\":regressors\n",
    "                         ,\"Validation Score\":results_score_val\n",
    "                         ,\"MAE\":results_MAE\n",
    "                        })\n",
    "df_results"
   ]
  },
  {
   "cell_type": "code",
   "execution_count": 177,
   "metadata": {},
   "outputs": [],
   "source": [
    "best_models=df_results.sort_values(by=\"MAE\")"
   ]
  },
  {
   "cell_type": "code",
   "execution_count": 186,
   "metadata": {},
   "outputs": [],
   "source": [
    "best_model=best_models.iloc[0][0]"
   ]
  },
  {
   "cell_type": "code",
   "execution_count": 187,
   "metadata": {},
   "outputs": [
    {
     "data": {
      "text/html": [
       "<div>\n",
       "<style scoped>\n",
       "    .dataframe tbody tr th:only-of-type {\n",
       "        vertical-align: middle;\n",
       "    }\n",
       "\n",
       "    .dataframe tbody tr th {\n",
       "        vertical-align: top;\n",
       "    }\n",
       "\n",
       "    .dataframe thead th {\n",
       "        text-align: right;\n",
       "    }\n",
       "</style>\n",
       "<table border=\"1\" class=\"dataframe\">\n",
       "  <thead>\n",
       "    <tr style=\"text-align: right;\">\n",
       "      <th></th>\n",
       "      <th>Algorithms</th>\n",
       "      <th>Validation Score</th>\n",
       "      <th>MAE</th>\n",
       "    </tr>\n",
       "  </thead>\n",
       "  <tbody>\n",
       "    <tr>\n",
       "      <th>1</th>\n",
       "      <td>LinearRegression(copy_X=True, fit_intercept=Tr...</td>\n",
       "      <td>0.817798</td>\n",
       "      <td>72.586255</td>\n",
       "    </tr>\n",
       "    <tr>\n",
       "      <th>3</th>\n",
       "      <td>(DecisionTreeRegressor(ccp_alpha=0.0, criterio...</td>\n",
       "      <td>0.722106</td>\n",
       "      <td>105.802969</td>\n",
       "    </tr>\n",
       "    <tr>\n",
       "      <th>0</th>\n",
       "      <td>DecisionTreeRegressor(ccp_alpha=0.0, criterion...</td>\n",
       "      <td>0.712687</td>\n",
       "      <td>117.182150</td>\n",
       "    </tr>\n",
       "    <tr>\n",
       "      <th>2</th>\n",
       "      <td>KNeighborsRegressor(algorithm='auto', leaf_siz...</td>\n",
       "      <td>0.582732</td>\n",
       "      <td>124.025382</td>\n",
       "    </tr>\n",
       "  </tbody>\n",
       "</table>\n",
       "</div>"
      ],
      "text/plain": [
       "                                          Algorithms  Validation Score  \\\n",
       "1  LinearRegression(copy_X=True, fit_intercept=Tr...          0.817798   \n",
       "3  (DecisionTreeRegressor(ccp_alpha=0.0, criterio...          0.722106   \n",
       "0  DecisionTreeRegressor(ccp_alpha=0.0, criterion...          0.712687   \n",
       "2  KNeighborsRegressor(algorithm='auto', leaf_siz...          0.582732   \n",
       "\n",
       "         MAE  \n",
       "1  72.586255  \n",
       "3 105.802969  \n",
       "0 117.182150  \n",
       "2 124.025382  "
      ]
     },
     "execution_count": 187,
     "metadata": {},
     "output_type": "execute_result"
    }
   ],
   "source": [
    "best_models"
   ]
  },
  {
   "cell_type": "code",
   "execution_count": 188,
   "metadata": {},
   "outputs": [
    {
     "data": {
      "text/plain": [
       "LinearRegression(copy_X=True, fit_intercept=True, n_jobs=None, normalize=False)"
      ]
     },
     "execution_count": 188,
     "metadata": {},
     "output_type": "execute_result"
    }
   ],
   "source": [
    "best_model"
   ]
  },
  {
   "cell_type": "code",
   "execution_count": 189,
   "metadata": {},
   "outputs": [
    {
     "data": {
      "image/png": "[encoded data removed]",
      "text/plain": [
       "<Figure size 720x504 with 1 Axes>"
      ]
     },
     "metadata": {},
     "output_type": "display_data"
    }
   ],
   "source": [
    "plt.figure(figsize=(10,7))\n",
    "y_pred=best_model.predict(X_val)\n",
    "sns.regplot(x=y_val,y=y_pred,truncate=False)\n",
    "plt.show()"
   ]
  },
  {
   "cell_type": "code",
   "execution_count": null,
   "metadata": {},
   "outputs": [],
   "source": []
  }
 ],
 "metadata": {
  "kernelspec": {
   "display_name": "Python 3",
   "language": "python",
   "name": "python3"
  },
  "language_info": {
   "codemirror_mode": {
    "name": "ipython",
    "version": 3
   },
   "file_extension": ".py",
   "mimetype": "text/x-python",
   "name": "python",
   "nbconvert_exporter": "python",
   "pygments_lexer": "ipython3",
   "version": "3.7.4"
  }
 },
 "nbformat": 4,
 "nbformat_minor": 4
}
